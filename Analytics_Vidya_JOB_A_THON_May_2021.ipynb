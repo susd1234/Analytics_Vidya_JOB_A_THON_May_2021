{
  "nbformat": 4,
  "nbformat_minor": 0,
  "metadata": {
    "kernelspec": {
      "display_name": "Python 3",
      "language": "python",
      "name": "python3"
    },
    "language_info": {
      "codemirror_mode": {
        "name": "ipython",
        "version": 3
      },
      "file_extension": ".py",
      "mimetype": "text/x-python",
      "name": "python",
      "nbconvert_exporter": "python",
      "pygments_lexer": "ipython3",
      "version": "3.8.8"
    },
    "colab": {
      "name": "Analytics Vidya - JOB-A-THON - May 2021.ipynb",
      "provenance": []
    }
  },
  "cells": [
    {
      "cell_type": "markdown",
      "metadata": {
        "id": "2OJ3zKzVUSrC"
      },
      "source": [
        "# <span style=\"color:blue\"> || Analytics Vidya - JOB-A-THON - May 2021 ||</span>\n",
        "\n",
        "# <span style=\"color:blue\"> || by Susan Das ||</span>\n",
        "\n"
      ]
    },
    {
      "cell_type": "markdown",
      "metadata": {
        "id": "dngpsSudUSrF"
      },
      "source": [
        "# Import Required Libraries"
      ]
    },
    {
      "cell_type": "code",
      "metadata": {
        "id": "KCD9tVkrUSrG"
      },
      "source": [
        "import pandas as pd\n",
        "import numpy as np\n",
        "import seaborn as sns\n",
        "import matplotlib.pyplot as plt"
      ],
      "execution_count": null,
      "outputs": []
    },
    {
      "cell_type": "markdown",
      "metadata": {
        "id": "qUVOdQ5ZUSrH"
      },
      "source": [
        "# Import Data"
      ]
    },
    {
      "cell_type": "code",
      "metadata": {
        "id": "BzKYF-H9USrH"
      },
      "source": [
        "df = pd.read_csv('train_s3TEQDk.csv')\n",
        "dftst = pd.read_csv('test_mSzZ8RL.csv')"
      ],
      "execution_count": null,
      "outputs": []
    },
    {
      "cell_type": "markdown",
      "metadata": {
        "id": "YrjwuAMhUSrI"
      },
      "source": [
        "# EDA"
      ]
    },
    {
      "cell_type": "code",
      "metadata": {
        "id": "GqjMsSI-USrI",
        "outputId": "c6ac46fb-92f6-45e7-ad33-6be71c76833b"
      },
      "source": [
        "df.shape"
      ],
      "execution_count": null,
      "outputs": [
        {
          "data": {
            "text/plain": [
              "(245725, 11)"
            ]
          },
          "execution_count": 172,
          "metadata": {},
          "output_type": "execute_result"
        }
      ]
    },
    {
      "cell_type": "code",
      "metadata": {
        "id": "6DQ5Nos2USrK",
        "outputId": "e81b7c2f-5754-4be9-e18c-931009a4bec2"
      },
      "source": [
        "df.info()"
      ],
      "execution_count": null,
      "outputs": [
        {
          "name": "stdout",
          "output_type": "stream",
          "text": [
            "<class 'pandas.core.frame.DataFrame'>\n",
            "RangeIndex: 245725 entries, 0 to 245724\n",
            "Data columns (total 11 columns):\n",
            " #   Column               Non-Null Count   Dtype \n",
            "---  ------               --------------   ----- \n",
            " 0   ID                   245725 non-null  object\n",
            " 1   Gender               245725 non-null  object\n",
            " 2   Age                  245725 non-null  int64 \n",
            " 3   Region_Code          245725 non-null  object\n",
            " 4   Occupation           245725 non-null  object\n",
            " 5   Channel_Code         245725 non-null  object\n",
            " 6   Vintage              245725 non-null  int64 \n",
            " 7   Credit_Product       216400 non-null  object\n",
            " 8   Avg_Account_Balance  245725 non-null  int64 \n",
            " 9   Is_Active            245725 non-null  object\n",
            " 10  Is_Lead              245725 non-null  int64 \n",
            "dtypes: int64(4), object(7)\n",
            "memory usage: 20.6+ MB\n"
          ]
        }
      ]
    },
    {
      "cell_type": "code",
      "metadata": {
        "id": "9RSgdLYHUSrK",
        "outputId": "b7b37d22-55b3-480e-eb1c-9c8b45f71978"
      },
      "source": [
        "df.head(10)"
      ],
      "execution_count": null,
      "outputs": [
        {
          "data": {
            "text/html": [
              "<div>\n",
              "<style scoped>\n",
              "    .dataframe tbody tr th:only-of-type {\n",
              "        vertical-align: middle;\n",
              "    }\n",
              "\n",
              "    .dataframe tbody tr th {\n",
              "        vertical-align: top;\n",
              "    }\n",
              "\n",
              "    .dataframe thead th {\n",
              "        text-align: right;\n",
              "    }\n",
              "</style>\n",
              "<table border=\"1\" class=\"dataframe\">\n",
              "  <thead>\n",
              "    <tr style=\"text-align: right;\">\n",
              "      <th></th>\n",
              "      <th>ID</th>\n",
              "      <th>Gender</th>\n",
              "      <th>Age</th>\n",
              "      <th>Region_Code</th>\n",
              "      <th>Occupation</th>\n",
              "      <th>Channel_Code</th>\n",
              "      <th>Vintage</th>\n",
              "      <th>Credit_Product</th>\n",
              "      <th>Avg_Account_Balance</th>\n",
              "      <th>Is_Active</th>\n",
              "      <th>Is_Lead</th>\n",
              "    </tr>\n",
              "  </thead>\n",
              "  <tbody>\n",
              "    <tr>\n",
              "      <th>0</th>\n",
              "      <td>NNVBBKZB</td>\n",
              "      <td>Female</td>\n",
              "      <td>73</td>\n",
              "      <td>RG268</td>\n",
              "      <td>Other</td>\n",
              "      <td>X3</td>\n",
              "      <td>43</td>\n",
              "      <td>No</td>\n",
              "      <td>1045696</td>\n",
              "      <td>No</td>\n",
              "      <td>0</td>\n",
              "    </tr>\n",
              "    <tr>\n",
              "      <th>1</th>\n",
              "      <td>IDD62UNG</td>\n",
              "      <td>Female</td>\n",
              "      <td>30</td>\n",
              "      <td>RG277</td>\n",
              "      <td>Salaried</td>\n",
              "      <td>X1</td>\n",
              "      <td>32</td>\n",
              "      <td>No</td>\n",
              "      <td>581988</td>\n",
              "      <td>No</td>\n",
              "      <td>0</td>\n",
              "    </tr>\n",
              "    <tr>\n",
              "      <th>2</th>\n",
              "      <td>HD3DSEMC</td>\n",
              "      <td>Female</td>\n",
              "      <td>56</td>\n",
              "      <td>RG268</td>\n",
              "      <td>Self_Employed</td>\n",
              "      <td>X3</td>\n",
              "      <td>26</td>\n",
              "      <td>No</td>\n",
              "      <td>1484315</td>\n",
              "      <td>Yes</td>\n",
              "      <td>0</td>\n",
              "    </tr>\n",
              "    <tr>\n",
              "      <th>3</th>\n",
              "      <td>BF3NC7KV</td>\n",
              "      <td>Male</td>\n",
              "      <td>34</td>\n",
              "      <td>RG270</td>\n",
              "      <td>Salaried</td>\n",
              "      <td>X1</td>\n",
              "      <td>19</td>\n",
              "      <td>No</td>\n",
              "      <td>470454</td>\n",
              "      <td>No</td>\n",
              "      <td>0</td>\n",
              "    </tr>\n",
              "    <tr>\n",
              "      <th>4</th>\n",
              "      <td>TEASRWXV</td>\n",
              "      <td>Female</td>\n",
              "      <td>30</td>\n",
              "      <td>RG282</td>\n",
              "      <td>Salaried</td>\n",
              "      <td>X1</td>\n",
              "      <td>33</td>\n",
              "      <td>No</td>\n",
              "      <td>886787</td>\n",
              "      <td>No</td>\n",
              "      <td>0</td>\n",
              "    </tr>\n",
              "    <tr>\n",
              "      <th>5</th>\n",
              "      <td>ACUTYTWS</td>\n",
              "      <td>Male</td>\n",
              "      <td>56</td>\n",
              "      <td>RG261</td>\n",
              "      <td>Self_Employed</td>\n",
              "      <td>X1</td>\n",
              "      <td>32</td>\n",
              "      <td>No</td>\n",
              "      <td>544163</td>\n",
              "      <td>Yes</td>\n",
              "      <td>0</td>\n",
              "    </tr>\n",
              "    <tr>\n",
              "      <th>6</th>\n",
              "      <td>ETQCZFEJ</td>\n",
              "      <td>Male</td>\n",
              "      <td>62</td>\n",
              "      <td>RG282</td>\n",
              "      <td>Other</td>\n",
              "      <td>X3</td>\n",
              "      <td>20</td>\n",
              "      <td>NaN</td>\n",
              "      <td>1056750</td>\n",
              "      <td>Yes</td>\n",
              "      <td>1</td>\n",
              "    </tr>\n",
              "    <tr>\n",
              "      <th>7</th>\n",
              "      <td>JJNJUQMQ</td>\n",
              "      <td>Female</td>\n",
              "      <td>48</td>\n",
              "      <td>RG265</td>\n",
              "      <td>Self_Employed</td>\n",
              "      <td>X3</td>\n",
              "      <td>13</td>\n",
              "      <td>No</td>\n",
              "      <td>444724</td>\n",
              "      <td>Yes</td>\n",
              "      <td>0</td>\n",
              "    </tr>\n",
              "    <tr>\n",
              "      <th>8</th>\n",
              "      <td>ZMQFYKCB</td>\n",
              "      <td>Female</td>\n",
              "      <td>40</td>\n",
              "      <td>RG283</td>\n",
              "      <td>Self_Employed</td>\n",
              "      <td>X2</td>\n",
              "      <td>38</td>\n",
              "      <td>No</td>\n",
              "      <td>1274284</td>\n",
              "      <td>No</td>\n",
              "      <td>0</td>\n",
              "    </tr>\n",
              "    <tr>\n",
              "      <th>9</th>\n",
              "      <td>NVKTFBA2</td>\n",
              "      <td>Female</td>\n",
              "      <td>55</td>\n",
              "      <td>RG268</td>\n",
              "      <td>Self_Employed</td>\n",
              "      <td>X2</td>\n",
              "      <td>49</td>\n",
              "      <td>Yes</td>\n",
              "      <td>2014239</td>\n",
              "      <td>No</td>\n",
              "      <td>0</td>\n",
              "    </tr>\n",
              "  </tbody>\n",
              "</table>\n",
              "</div>"
            ],
            "text/plain": [
              "         ID  Gender  Age Region_Code     Occupation Channel_Code  Vintage  \\\n",
              "0  NNVBBKZB  Female   73       RG268          Other           X3       43   \n",
              "1  IDD62UNG  Female   30       RG277       Salaried           X1       32   \n",
              "2  HD3DSEMC  Female   56       RG268  Self_Employed           X3       26   \n",
              "3  BF3NC7KV    Male   34       RG270       Salaried           X1       19   \n",
              "4  TEASRWXV  Female   30       RG282       Salaried           X1       33   \n",
              "5  ACUTYTWS    Male   56       RG261  Self_Employed           X1       32   \n",
              "6  ETQCZFEJ    Male   62       RG282          Other           X3       20   \n",
              "7  JJNJUQMQ  Female   48       RG265  Self_Employed           X3       13   \n",
              "8  ZMQFYKCB  Female   40       RG283  Self_Employed           X2       38   \n",
              "9  NVKTFBA2  Female   55       RG268  Self_Employed           X2       49   \n",
              "\n",
              "  Credit_Product  Avg_Account_Balance Is_Active  Is_Lead  \n",
              "0             No              1045696        No        0  \n",
              "1             No               581988        No        0  \n",
              "2             No              1484315       Yes        0  \n",
              "3             No               470454        No        0  \n",
              "4             No               886787        No        0  \n",
              "5             No               544163       Yes        0  \n",
              "6            NaN              1056750       Yes        1  \n",
              "7             No               444724       Yes        0  \n",
              "8             No              1274284        No        0  \n",
              "9            Yes              2014239        No        0  "
            ]
          },
          "execution_count": 174,
          "metadata": {},
          "output_type": "execute_result"
        }
      ]
    },
    {
      "cell_type": "code",
      "metadata": {
        "id": "NRJlYmnRUSrL",
        "outputId": "51015420-33bc-4454-e009-e93751596b5f"
      },
      "source": [
        "df.isnull().sum()"
      ],
      "execution_count": null,
      "outputs": [
        {
          "data": {
            "text/plain": [
              "ID                         0\n",
              "Gender                     0\n",
              "Age                        0\n",
              "Region_Code                0\n",
              "Occupation                 0\n",
              "Channel_Code               0\n",
              "Vintage                    0\n",
              "Credit_Product         29325\n",
              "Avg_Account_Balance        0\n",
              "Is_Active                  0\n",
              "Is_Lead                    0\n",
              "dtype: int64"
            ]
          },
          "execution_count": 175,
          "metadata": {},
          "output_type": "execute_result"
        }
      ]
    },
    {
      "cell_type": "code",
      "metadata": {
        "id": "PT1NMOZ5USrM",
        "outputId": "d16f48fe-0b9f-4803-8762-a6bc0f51a2c3"
      },
      "source": [
        "df.shape"
      ],
      "execution_count": null,
      "outputs": [
        {
          "data": {
            "text/plain": [
              "(245725, 11)"
            ]
          },
          "execution_count": 176,
          "metadata": {},
          "output_type": "execute_result"
        }
      ]
    },
    {
      "cell_type": "code",
      "metadata": {
        "id": "UZXXgn_MUSrM",
        "outputId": "9234fa9e-2018-4846-d7d3-d2be5153a2a7"
      },
      "source": [
        "# df = df.dropna()\n",
        "df=df.fillna(value='No')\n",
        "df.shape"
      ],
      "execution_count": null,
      "outputs": [
        {
          "data": {
            "text/plain": [
              "(245725, 11)"
            ]
          },
          "execution_count": 177,
          "metadata": {},
          "output_type": "execute_result"
        }
      ]
    },
    {
      "cell_type": "code",
      "metadata": {
        "id": "V1g6565hUSrN",
        "outputId": "7cc5bb12-7036-4a07-bebb-7de410350db5"
      },
      "source": [
        "df.isnull().sum()"
      ],
      "execution_count": null,
      "outputs": [
        {
          "data": {
            "text/plain": [
              "ID                     0\n",
              "Gender                 0\n",
              "Age                    0\n",
              "Region_Code            0\n",
              "Occupation             0\n",
              "Channel_Code           0\n",
              "Vintage                0\n",
              "Credit_Product         0\n",
              "Avg_Account_Balance    0\n",
              "Is_Active              0\n",
              "Is_Lead                0\n",
              "dtype: int64"
            ]
          },
          "execution_count": 178,
          "metadata": {},
          "output_type": "execute_result"
        }
      ]
    },
    {
      "cell_type": "code",
      "metadata": {
        "id": "xfXgnH_fUSrN",
        "outputId": "429c00e3-3084-4739-bf20-b10c4602a183"
      },
      "source": [
        "df.head(10)"
      ],
      "execution_count": null,
      "outputs": [
        {
          "data": {
            "text/html": [
              "<div>\n",
              "<style scoped>\n",
              "    .dataframe tbody tr th:only-of-type {\n",
              "        vertical-align: middle;\n",
              "    }\n",
              "\n",
              "    .dataframe tbody tr th {\n",
              "        vertical-align: top;\n",
              "    }\n",
              "\n",
              "    .dataframe thead th {\n",
              "        text-align: right;\n",
              "    }\n",
              "</style>\n",
              "<table border=\"1\" class=\"dataframe\">\n",
              "  <thead>\n",
              "    <tr style=\"text-align: right;\">\n",
              "      <th></th>\n",
              "      <th>ID</th>\n",
              "      <th>Gender</th>\n",
              "      <th>Age</th>\n",
              "      <th>Region_Code</th>\n",
              "      <th>Occupation</th>\n",
              "      <th>Channel_Code</th>\n",
              "      <th>Vintage</th>\n",
              "      <th>Credit_Product</th>\n",
              "      <th>Avg_Account_Balance</th>\n",
              "      <th>Is_Active</th>\n",
              "      <th>Is_Lead</th>\n",
              "    </tr>\n",
              "  </thead>\n",
              "  <tbody>\n",
              "    <tr>\n",
              "      <th>0</th>\n",
              "      <td>NNVBBKZB</td>\n",
              "      <td>Female</td>\n",
              "      <td>73</td>\n",
              "      <td>RG268</td>\n",
              "      <td>Other</td>\n",
              "      <td>X3</td>\n",
              "      <td>43</td>\n",
              "      <td>No</td>\n",
              "      <td>1045696</td>\n",
              "      <td>No</td>\n",
              "      <td>0</td>\n",
              "    </tr>\n",
              "    <tr>\n",
              "      <th>1</th>\n",
              "      <td>IDD62UNG</td>\n",
              "      <td>Female</td>\n",
              "      <td>30</td>\n",
              "      <td>RG277</td>\n",
              "      <td>Salaried</td>\n",
              "      <td>X1</td>\n",
              "      <td>32</td>\n",
              "      <td>No</td>\n",
              "      <td>581988</td>\n",
              "      <td>No</td>\n",
              "      <td>0</td>\n",
              "    </tr>\n",
              "    <tr>\n",
              "      <th>2</th>\n",
              "      <td>HD3DSEMC</td>\n",
              "      <td>Female</td>\n",
              "      <td>56</td>\n",
              "      <td>RG268</td>\n",
              "      <td>Self_Employed</td>\n",
              "      <td>X3</td>\n",
              "      <td>26</td>\n",
              "      <td>No</td>\n",
              "      <td>1484315</td>\n",
              "      <td>Yes</td>\n",
              "      <td>0</td>\n",
              "    </tr>\n",
              "    <tr>\n",
              "      <th>3</th>\n",
              "      <td>BF3NC7KV</td>\n",
              "      <td>Male</td>\n",
              "      <td>34</td>\n",
              "      <td>RG270</td>\n",
              "      <td>Salaried</td>\n",
              "      <td>X1</td>\n",
              "      <td>19</td>\n",
              "      <td>No</td>\n",
              "      <td>470454</td>\n",
              "      <td>No</td>\n",
              "      <td>0</td>\n",
              "    </tr>\n",
              "    <tr>\n",
              "      <th>4</th>\n",
              "      <td>TEASRWXV</td>\n",
              "      <td>Female</td>\n",
              "      <td>30</td>\n",
              "      <td>RG282</td>\n",
              "      <td>Salaried</td>\n",
              "      <td>X1</td>\n",
              "      <td>33</td>\n",
              "      <td>No</td>\n",
              "      <td>886787</td>\n",
              "      <td>No</td>\n",
              "      <td>0</td>\n",
              "    </tr>\n",
              "    <tr>\n",
              "      <th>5</th>\n",
              "      <td>ACUTYTWS</td>\n",
              "      <td>Male</td>\n",
              "      <td>56</td>\n",
              "      <td>RG261</td>\n",
              "      <td>Self_Employed</td>\n",
              "      <td>X1</td>\n",
              "      <td>32</td>\n",
              "      <td>No</td>\n",
              "      <td>544163</td>\n",
              "      <td>Yes</td>\n",
              "      <td>0</td>\n",
              "    </tr>\n",
              "    <tr>\n",
              "      <th>6</th>\n",
              "      <td>ETQCZFEJ</td>\n",
              "      <td>Male</td>\n",
              "      <td>62</td>\n",
              "      <td>RG282</td>\n",
              "      <td>Other</td>\n",
              "      <td>X3</td>\n",
              "      <td>20</td>\n",
              "      <td>No</td>\n",
              "      <td>1056750</td>\n",
              "      <td>Yes</td>\n",
              "      <td>1</td>\n",
              "    </tr>\n",
              "    <tr>\n",
              "      <th>7</th>\n",
              "      <td>JJNJUQMQ</td>\n",
              "      <td>Female</td>\n",
              "      <td>48</td>\n",
              "      <td>RG265</td>\n",
              "      <td>Self_Employed</td>\n",
              "      <td>X3</td>\n",
              "      <td>13</td>\n",
              "      <td>No</td>\n",
              "      <td>444724</td>\n",
              "      <td>Yes</td>\n",
              "      <td>0</td>\n",
              "    </tr>\n",
              "    <tr>\n",
              "      <th>8</th>\n",
              "      <td>ZMQFYKCB</td>\n",
              "      <td>Female</td>\n",
              "      <td>40</td>\n",
              "      <td>RG283</td>\n",
              "      <td>Self_Employed</td>\n",
              "      <td>X2</td>\n",
              "      <td>38</td>\n",
              "      <td>No</td>\n",
              "      <td>1274284</td>\n",
              "      <td>No</td>\n",
              "      <td>0</td>\n",
              "    </tr>\n",
              "    <tr>\n",
              "      <th>9</th>\n",
              "      <td>NVKTFBA2</td>\n",
              "      <td>Female</td>\n",
              "      <td>55</td>\n",
              "      <td>RG268</td>\n",
              "      <td>Self_Employed</td>\n",
              "      <td>X2</td>\n",
              "      <td>49</td>\n",
              "      <td>Yes</td>\n",
              "      <td>2014239</td>\n",
              "      <td>No</td>\n",
              "      <td>0</td>\n",
              "    </tr>\n",
              "  </tbody>\n",
              "</table>\n",
              "</div>"
            ],
            "text/plain": [
              "         ID  Gender  Age Region_Code     Occupation Channel_Code  Vintage  \\\n",
              "0  NNVBBKZB  Female   73       RG268          Other           X3       43   \n",
              "1  IDD62UNG  Female   30       RG277       Salaried           X1       32   \n",
              "2  HD3DSEMC  Female   56       RG268  Self_Employed           X3       26   \n",
              "3  BF3NC7KV    Male   34       RG270       Salaried           X1       19   \n",
              "4  TEASRWXV  Female   30       RG282       Salaried           X1       33   \n",
              "5  ACUTYTWS    Male   56       RG261  Self_Employed           X1       32   \n",
              "6  ETQCZFEJ    Male   62       RG282          Other           X3       20   \n",
              "7  JJNJUQMQ  Female   48       RG265  Self_Employed           X3       13   \n",
              "8  ZMQFYKCB  Female   40       RG283  Self_Employed           X2       38   \n",
              "9  NVKTFBA2  Female   55       RG268  Self_Employed           X2       49   \n",
              "\n",
              "  Credit_Product  Avg_Account_Balance Is_Active  Is_Lead  \n",
              "0             No              1045696        No        0  \n",
              "1             No               581988        No        0  \n",
              "2             No              1484315       Yes        0  \n",
              "3             No               470454        No        0  \n",
              "4             No               886787        No        0  \n",
              "5             No               544163       Yes        0  \n",
              "6             No              1056750       Yes        1  \n",
              "7             No               444724       Yes        0  \n",
              "8             No              1274284        No        0  \n",
              "9            Yes              2014239        No        0  "
            ]
          },
          "execution_count": 179,
          "metadata": {},
          "output_type": "execute_result"
        }
      ]
    },
    {
      "cell_type": "code",
      "metadata": {
        "id": "UNkKjIgPUSrN",
        "outputId": "2f1d61b4-2380-4c76-c6b4-a8f02b8a9d37"
      },
      "source": [
        "df.describe(include='all').transpose()"
      ],
      "execution_count": null,
      "outputs": [
        {
          "data": {
            "text/html": [
              "<div>\n",
              "<style scoped>\n",
              "    .dataframe tbody tr th:only-of-type {\n",
              "        vertical-align: middle;\n",
              "    }\n",
              "\n",
              "    .dataframe tbody tr th {\n",
              "        vertical-align: top;\n",
              "    }\n",
              "\n",
              "    .dataframe thead th {\n",
              "        text-align: right;\n",
              "    }\n",
              "</style>\n",
              "<table border=\"1\" class=\"dataframe\">\n",
              "  <thead>\n",
              "    <tr style=\"text-align: right;\">\n",
              "      <th></th>\n",
              "      <th>count</th>\n",
              "      <th>unique</th>\n",
              "      <th>top</th>\n",
              "      <th>freq</th>\n",
              "      <th>mean</th>\n",
              "      <th>std</th>\n",
              "      <th>min</th>\n",
              "      <th>25%</th>\n",
              "      <th>50%</th>\n",
              "      <th>75%</th>\n",
              "      <th>max</th>\n",
              "    </tr>\n",
              "  </thead>\n",
              "  <tbody>\n",
              "    <tr>\n",
              "      <th>ID</th>\n",
              "      <td>245725</td>\n",
              "      <td>245725</td>\n",
              "      <td>MGBZHGP4</td>\n",
              "      <td>1</td>\n",
              "      <td>NaN</td>\n",
              "      <td>NaN</td>\n",
              "      <td>NaN</td>\n",
              "      <td>NaN</td>\n",
              "      <td>NaN</td>\n",
              "      <td>NaN</td>\n",
              "      <td>NaN</td>\n",
              "    </tr>\n",
              "    <tr>\n",
              "      <th>Gender</th>\n",
              "      <td>245725</td>\n",
              "      <td>2</td>\n",
              "      <td>Male</td>\n",
              "      <td>134197</td>\n",
              "      <td>NaN</td>\n",
              "      <td>NaN</td>\n",
              "      <td>NaN</td>\n",
              "      <td>NaN</td>\n",
              "      <td>NaN</td>\n",
              "      <td>NaN</td>\n",
              "      <td>NaN</td>\n",
              "    </tr>\n",
              "    <tr>\n",
              "      <th>Age</th>\n",
              "      <td>245725</td>\n",
              "      <td>NaN</td>\n",
              "      <td>NaN</td>\n",
              "      <td>NaN</td>\n",
              "      <td>43.8563</td>\n",
              "      <td>14.8287</td>\n",
              "      <td>23</td>\n",
              "      <td>30</td>\n",
              "      <td>43</td>\n",
              "      <td>54</td>\n",
              "      <td>85</td>\n",
              "    </tr>\n",
              "    <tr>\n",
              "      <th>Region_Code</th>\n",
              "      <td>245725</td>\n",
              "      <td>35</td>\n",
              "      <td>RG268</td>\n",
              "      <td>35934</td>\n",
              "      <td>NaN</td>\n",
              "      <td>NaN</td>\n",
              "      <td>NaN</td>\n",
              "      <td>NaN</td>\n",
              "      <td>NaN</td>\n",
              "      <td>NaN</td>\n",
              "      <td>NaN</td>\n",
              "    </tr>\n",
              "    <tr>\n",
              "      <th>Occupation</th>\n",
              "      <td>245725</td>\n",
              "      <td>4</td>\n",
              "      <td>Self_Employed</td>\n",
              "      <td>100886</td>\n",
              "      <td>NaN</td>\n",
              "      <td>NaN</td>\n",
              "      <td>NaN</td>\n",
              "      <td>NaN</td>\n",
              "      <td>NaN</td>\n",
              "      <td>NaN</td>\n",
              "      <td>NaN</td>\n",
              "    </tr>\n",
              "    <tr>\n",
              "      <th>Channel_Code</th>\n",
              "      <td>245725</td>\n",
              "      <td>4</td>\n",
              "      <td>X1</td>\n",
              "      <td>103718</td>\n",
              "      <td>NaN</td>\n",
              "      <td>NaN</td>\n",
              "      <td>NaN</td>\n",
              "      <td>NaN</td>\n",
              "      <td>NaN</td>\n",
              "      <td>NaN</td>\n",
              "      <td>NaN</td>\n",
              "    </tr>\n",
              "    <tr>\n",
              "      <th>Vintage</th>\n",
              "      <td>245725</td>\n",
              "      <td>NaN</td>\n",
              "      <td>NaN</td>\n",
              "      <td>NaN</td>\n",
              "      <td>46.9591</td>\n",
              "      <td>32.3531</td>\n",
              "      <td>7</td>\n",
              "      <td>20</td>\n",
              "      <td>32</td>\n",
              "      <td>73</td>\n",
              "      <td>135</td>\n",
              "    </tr>\n",
              "    <tr>\n",
              "      <th>Credit_Product</th>\n",
              "      <td>245725</td>\n",
              "      <td>2</td>\n",
              "      <td>No</td>\n",
              "      <td>173682</td>\n",
              "      <td>NaN</td>\n",
              "      <td>NaN</td>\n",
              "      <td>NaN</td>\n",
              "      <td>NaN</td>\n",
              "      <td>NaN</td>\n",
              "      <td>NaN</td>\n",
              "      <td>NaN</td>\n",
              "    </tr>\n",
              "    <tr>\n",
              "      <th>Avg_Account_Balance</th>\n",
              "      <td>245725</td>\n",
              "      <td>NaN</td>\n",
              "      <td>NaN</td>\n",
              "      <td>NaN</td>\n",
              "      <td>1.1284e+06</td>\n",
              "      <td>852936</td>\n",
              "      <td>20790</td>\n",
              "      <td>604310</td>\n",
              "      <td>894601</td>\n",
              "      <td>1.36667e+06</td>\n",
              "      <td>1.0352e+07</td>\n",
              "    </tr>\n",
              "    <tr>\n",
              "      <th>Is_Active</th>\n",
              "      <td>245725</td>\n",
              "      <td>2</td>\n",
              "      <td>No</td>\n",
              "      <td>150290</td>\n",
              "      <td>NaN</td>\n",
              "      <td>NaN</td>\n",
              "      <td>NaN</td>\n",
              "      <td>NaN</td>\n",
              "      <td>NaN</td>\n",
              "      <td>NaN</td>\n",
              "      <td>NaN</td>\n",
              "    </tr>\n",
              "    <tr>\n",
              "      <th>Is_Lead</th>\n",
              "      <td>245725</td>\n",
              "      <td>NaN</td>\n",
              "      <td>NaN</td>\n",
              "      <td>NaN</td>\n",
              "      <td>0.237208</td>\n",
              "      <td>0.425372</td>\n",
              "      <td>0</td>\n",
              "      <td>0</td>\n",
              "      <td>0</td>\n",
              "      <td>0</td>\n",
              "      <td>1</td>\n",
              "    </tr>\n",
              "  </tbody>\n",
              "</table>\n",
              "</div>"
            ],
            "text/plain": [
              "                      count  unique            top    freq        mean  \\\n",
              "ID                   245725  245725       MGBZHGP4       1         NaN   \n",
              "Gender               245725       2           Male  134197         NaN   \n",
              "Age                  245725     NaN            NaN     NaN     43.8563   \n",
              "Region_Code          245725      35          RG268   35934         NaN   \n",
              "Occupation           245725       4  Self_Employed  100886         NaN   \n",
              "Channel_Code         245725       4             X1  103718         NaN   \n",
              "Vintage              245725     NaN            NaN     NaN     46.9591   \n",
              "Credit_Product       245725       2             No  173682         NaN   \n",
              "Avg_Account_Balance  245725     NaN            NaN     NaN  1.1284e+06   \n",
              "Is_Active            245725       2             No  150290         NaN   \n",
              "Is_Lead              245725     NaN            NaN     NaN    0.237208   \n",
              "\n",
              "                          std    min     25%     50%          75%         max  \n",
              "ID                        NaN    NaN     NaN     NaN          NaN         NaN  \n",
              "Gender                    NaN    NaN     NaN     NaN          NaN         NaN  \n",
              "Age                   14.8287     23      30      43           54          85  \n",
              "Region_Code               NaN    NaN     NaN     NaN          NaN         NaN  \n",
              "Occupation                NaN    NaN     NaN     NaN          NaN         NaN  \n",
              "Channel_Code              NaN    NaN     NaN     NaN          NaN         NaN  \n",
              "Vintage               32.3531      7      20      32           73         135  \n",
              "Credit_Product            NaN    NaN     NaN     NaN          NaN         NaN  \n",
              "Avg_Account_Balance    852936  20790  604310  894601  1.36667e+06  1.0352e+07  \n",
              "Is_Active                 NaN    NaN     NaN     NaN          NaN         NaN  \n",
              "Is_Lead              0.425372      0       0       0            0           1  "
            ]
          },
          "execution_count": 180,
          "metadata": {},
          "output_type": "execute_result"
        }
      ]
    },
    {
      "cell_type": "code",
      "metadata": {
        "id": "_QiHHd9KUSrO",
        "outputId": "13a40dbc-b336-494f-df3f-5cd86e5e463e"
      },
      "source": [
        "dftst.isnull().sum()"
      ],
      "execution_count": null,
      "outputs": [
        {
          "data": {
            "text/plain": [
              "ID                         0\n",
              "Gender                     0\n",
              "Age                        0\n",
              "Region_Code                0\n",
              "Occupation                 0\n",
              "Channel_Code               0\n",
              "Vintage                    0\n",
              "Credit_Product         12522\n",
              "Avg_Account_Balance        0\n",
              "Is_Active                  0\n",
              "dtype: int64"
            ]
          },
          "execution_count": 181,
          "metadata": {},
          "output_type": "execute_result"
        }
      ]
    },
    {
      "cell_type": "code",
      "metadata": {
        "id": "MCasIQ3CUSrO",
        "outputId": "d5ffbe14-7107-4a89-fea0-8334ea640b8e"
      },
      "source": [
        "dftst.shape"
      ],
      "execution_count": null,
      "outputs": [
        {
          "data": {
            "text/plain": [
              "(105312, 10)"
            ]
          },
          "execution_count": 182,
          "metadata": {},
          "output_type": "execute_result"
        }
      ]
    },
    {
      "cell_type": "code",
      "metadata": {
        "id": "PTaRZltMUSrO",
        "outputId": "2b83798f-49f9-4bd8-cad2-05f65880e188"
      },
      "source": [
        "# dftst = dftst.dropna()\n",
        "dftst=dftst.fillna(value='No')\n",
        "dftst.shape"
      ],
      "execution_count": null,
      "outputs": [
        {
          "data": {
            "text/plain": [
              "(105312, 10)"
            ]
          },
          "execution_count": 183,
          "metadata": {},
          "output_type": "execute_result"
        }
      ]
    },
    {
      "cell_type": "code",
      "metadata": {
        "id": "dkNfUJoUUSrP",
        "outputId": "7f14196a-c7e6-4825-a53a-c352f6ecb4d4"
      },
      "source": [
        "dftst.isnull().sum()"
      ],
      "execution_count": null,
      "outputs": [
        {
          "data": {
            "text/plain": [
              "ID                     0\n",
              "Gender                 0\n",
              "Age                    0\n",
              "Region_Code            0\n",
              "Occupation             0\n",
              "Channel_Code           0\n",
              "Vintage                0\n",
              "Credit_Product         0\n",
              "Avg_Account_Balance    0\n",
              "Is_Active              0\n",
              "dtype: int64"
            ]
          },
          "execution_count": 184,
          "metadata": {},
          "output_type": "execute_result"
        }
      ]
    },
    {
      "cell_type": "markdown",
      "metadata": {
        "id": "Z01J4oJvUSrP"
      },
      "source": [
        "## Visualization"
      ]
    },
    {
      "cell_type": "code",
      "metadata": {
        "id": "5-s9eognUSrP",
        "outputId": "602a1f96-d51c-47a3-f740-3722a943ea3b"
      },
      "source": [
        "sns.countplot(x='Is_Lead',data=df)"
      ],
      "execution_count": null,
      "outputs": [
        {
          "data": {
            "text/plain": [
              "<matplotlib.axes._subplots.AxesSubplot at 0x7f846e098670>"
            ]
          },
          "execution_count": 185,
          "metadata": {},
          "output_type": "execute_result"
        },
        {
          "data": {
            "image/png": "[encoded data removed]",
            "text/plain": [
              "<Figure size 432x288 with 1 Axes>"
            ]
          },
          "metadata": {
            "needs_background": "light"
          },
          "output_type": "display_data"
        }
      ]
    },
    {
      "cell_type": "code",
      "metadata": {
        "id": "PaF-0mwbUSrP",
        "outputId": "981a3a20-d254-4e03-edd8-5bb4b997203b"
      },
      "source": [
        "plt.figure(figsize = (10,10))\n",
        "sns.heatmap(df.corr(), annot = True)"
      ],
      "execution_count": null,
      "outputs": [
        {
          "data": {
            "text/plain": [
              "<matplotlib.axes._subplots.AxesSubplot at 0x7f846ee4fc40>"
            ]
          },
          "execution_count": 186,
          "metadata": {},
          "output_type": "execute_result"
        },
        {
          "data": {
            "image/png": "[encoded data removed]",
            "text/plain": [
              "<Figure size 720x720 with 2 Axes>"
            ]
          },
          "metadata": {
            "needs_background": "light"
          },
          "output_type": "display_data"
        }
      ]
    },
    {
      "cell_type": "code",
      "metadata": {
        "id": "nEXSpe2cUSrQ",
        "outputId": "5b7965bd-cf4f-4a9d-90dc-2ddfbfdfe0e3"
      },
      "source": [
        "df.corr()['Is_Lead'].sort_values()"
      ],
      "execution_count": null,
      "outputs": [
        {
          "data": {
            "text/plain": [
              "Avg_Account_Balance    0.053370\n",
              "Age                    0.230814\n",
              "Vintage                0.279642\n",
              "Is_Lead                1.000000\n",
              "Name: Is_Lead, dtype: float64"
            ]
          },
          "execution_count": 187,
          "metadata": {},
          "output_type": "execute_result"
        }
      ]
    },
    {
      "cell_type": "code",
      "metadata": {
        "id": "HxuvUlXNUSrQ",
        "outputId": "fb1a482e-9b9a-4c1c-e3bb-1fdfea23ed5e"
      },
      "source": [
        "df.corr()['Is_Lead'][:-1].sort_values().plot(kind='bar')"
      ],
      "execution_count": null,
      "outputs": [
        {
          "data": {
            "text/plain": [
              "<matplotlib.axes._subplots.AxesSubplot at 0x7f84575aeb50>"
            ]
          },
          "execution_count": 188,
          "metadata": {},
          "output_type": "execute_result"
        },
        {
          "data": {
            "image/png": "[encoded data removed]",
            "text/plain": [
              "<Figure size 432x288 with 1 Axes>"
            ]
          },
          "metadata": {
            "needs_background": "light"
          },
          "output_type": "display_data"
        }
      ]
    },
    {
      "cell_type": "markdown",
      "metadata": {
        "id": "rteqsjWOUSrQ"
      },
      "source": [
        "## Converting Categorical Columns to Numeric"
      ]
    },
    {
      "cell_type": "code",
      "metadata": {
        "id": "mr_fUJxGUSrS",
        "outputId": "6df1f400-7168-4fdc-cdd6-bb4ddeda2c21"
      },
      "source": [
        "df1 = pd.get_dummies(df, columns=[\n",
        "    'Gender',\n",
        "    'Region_Code',\n",
        "    'Occupation',\n",
        "    'Channel_Code',\n",
        "    'Credit_Product',\n",
        "    'Is_Active'],drop_first = True)\n",
        "\n",
        "df1.head()"
      ],
      "execution_count": null,
      "outputs": [
        {
          "data": {
            "text/html": [
              "<div>\n",
              "<style scoped>\n",
              "    .dataframe tbody tr th:only-of-type {\n",
              "        vertical-align: middle;\n",
              "    }\n",
              "\n",
              "    .dataframe tbody tr th {\n",
              "        vertical-align: top;\n",
              "    }\n",
              "\n",
              "    .dataframe thead th {\n",
              "        text-align: right;\n",
              "    }\n",
              "</style>\n",
              "<table border=\"1\" class=\"dataframe\">\n",
              "  <thead>\n",
              "    <tr style=\"text-align: right;\">\n",
              "      <th></th>\n",
              "      <th>ID</th>\n",
              "      <th>Age</th>\n",
              "      <th>Vintage</th>\n",
              "      <th>Avg_Account_Balance</th>\n",
              "      <th>Is_Lead</th>\n",
              "      <th>Gender_Male</th>\n",
              "      <th>Region_Code_RG251</th>\n",
              "      <th>Region_Code_RG252</th>\n",
              "      <th>Region_Code_RG253</th>\n",
              "      <th>Region_Code_RG254</th>\n",
              "      <th>...</th>\n",
              "      <th>Region_Code_RG283</th>\n",
              "      <th>Region_Code_RG284</th>\n",
              "      <th>Occupation_Other</th>\n",
              "      <th>Occupation_Salaried</th>\n",
              "      <th>Occupation_Self_Employed</th>\n",
              "      <th>Channel_Code_X2</th>\n",
              "      <th>Channel_Code_X3</th>\n",
              "      <th>Channel_Code_X4</th>\n",
              "      <th>Credit_Product_Yes</th>\n",
              "      <th>Is_Active_Yes</th>\n",
              "    </tr>\n",
              "  </thead>\n",
              "  <tbody>\n",
              "    <tr>\n",
              "      <th>0</th>\n",
              "      <td>NNVBBKZB</td>\n",
              "      <td>73</td>\n",
              "      <td>43</td>\n",
              "      <td>1045696</td>\n",
              "      <td>0</td>\n",
              "      <td>0</td>\n",
              "      <td>0</td>\n",
              "      <td>0</td>\n",
              "      <td>0</td>\n",
              "      <td>0</td>\n",
              "      <td>...</td>\n",
              "      <td>0</td>\n",
              "      <td>0</td>\n",
              "      <td>1</td>\n",
              "      <td>0</td>\n",
              "      <td>0</td>\n",
              "      <td>0</td>\n",
              "      <td>1</td>\n",
              "      <td>0</td>\n",
              "      <td>0</td>\n",
              "      <td>0</td>\n",
              "    </tr>\n",
              "    <tr>\n",
              "      <th>1</th>\n",
              "      <td>IDD62UNG</td>\n",
              "      <td>30</td>\n",
              "      <td>32</td>\n",
              "      <td>581988</td>\n",
              "      <td>0</td>\n",
              "      <td>0</td>\n",
              "      <td>0</td>\n",
              "      <td>0</td>\n",
              "      <td>0</td>\n",
              "      <td>0</td>\n",
              "      <td>...</td>\n",
              "      <td>0</td>\n",
              "      <td>0</td>\n",
              "      <td>0</td>\n",
              "      <td>1</td>\n",
              "      <td>0</td>\n",
              "      <td>0</td>\n",
              "      <td>0</td>\n",
              "      <td>0</td>\n",
              "      <td>0</td>\n",
              "      <td>0</td>\n",
              "    </tr>\n",
              "    <tr>\n",
              "      <th>2</th>\n",
              "      <td>HD3DSEMC</td>\n",
              "      <td>56</td>\n",
              "      <td>26</td>\n",
              "      <td>1484315</td>\n",
              "      <td>0</td>\n",
              "      <td>0</td>\n",
              "      <td>0</td>\n",
              "      <td>0</td>\n",
              "      <td>0</td>\n",
              "      <td>0</td>\n",
              "      <td>...</td>\n",
              "      <td>0</td>\n",
              "      <td>0</td>\n",
              "      <td>0</td>\n",
              "      <td>0</td>\n",
              "      <td>1</td>\n",
              "      <td>0</td>\n",
              "      <td>1</td>\n",
              "      <td>0</td>\n",
              "      <td>0</td>\n",
              "      <td>1</td>\n",
              "    </tr>\n",
              "    <tr>\n",
              "      <th>3</th>\n",
              "      <td>BF3NC7KV</td>\n",
              "      <td>34</td>\n",
              "      <td>19</td>\n",
              "      <td>470454</td>\n",
              "      <td>0</td>\n",
              "      <td>1</td>\n",
              "      <td>0</td>\n",
              "      <td>0</td>\n",
              "      <td>0</td>\n",
              "      <td>0</td>\n",
              "      <td>...</td>\n",
              "      <td>0</td>\n",
              "      <td>0</td>\n",
              "      <td>0</td>\n",
              "      <td>1</td>\n",
              "      <td>0</td>\n",
              "      <td>0</td>\n",
              "      <td>0</td>\n",
              "      <td>0</td>\n",
              "      <td>0</td>\n",
              "      <td>0</td>\n",
              "    </tr>\n",
              "    <tr>\n",
              "      <th>4</th>\n",
              "      <td>TEASRWXV</td>\n",
              "      <td>30</td>\n",
              "      <td>33</td>\n",
              "      <td>886787</td>\n",
              "      <td>0</td>\n",
              "      <td>0</td>\n",
              "      <td>0</td>\n",
              "      <td>0</td>\n",
              "      <td>0</td>\n",
              "      <td>0</td>\n",
              "      <td>...</td>\n",
              "      <td>0</td>\n",
              "      <td>0</td>\n",
              "      <td>0</td>\n",
              "      <td>1</td>\n",
              "      <td>0</td>\n",
              "      <td>0</td>\n",
              "      <td>0</td>\n",
              "      <td>0</td>\n",
              "      <td>0</td>\n",
              "      <td>0</td>\n",
              "    </tr>\n",
              "  </tbody>\n",
              "</table>\n",
              "<p>5 rows × 48 columns</p>\n",
              "</div>"
            ],
            "text/plain": [
              "         ID  Age  Vintage  Avg_Account_Balance  Is_Lead  Gender_Male  \\\n",
              "0  NNVBBKZB   73       43              1045696        0            0   \n",
              "1  IDD62UNG   30       32               581988        0            0   \n",
              "2  HD3DSEMC   56       26              1484315        0            0   \n",
              "3  BF3NC7KV   34       19               470454        0            1   \n",
              "4  TEASRWXV   30       33               886787        0            0   \n",
              "\n",
              "   Region_Code_RG251  Region_Code_RG252  Region_Code_RG253  Region_Code_RG254  \\\n",
              "0                  0                  0                  0                  0   \n",
              "1                  0                  0                  0                  0   \n",
              "2                  0                  0                  0                  0   \n",
              "3                  0                  0                  0                  0   \n",
              "4                  0                  0                  0                  0   \n",
              "\n",
              "   ...  Region_Code_RG283  Region_Code_RG284  Occupation_Other  \\\n",
              "0  ...                  0                  0                 1   \n",
              "1  ...                  0                  0                 0   \n",
              "2  ...                  0                  0                 0   \n",
              "3  ...                  0                  0                 0   \n",
              "4  ...                  0                  0                 0   \n",
              "\n",
              "   Occupation_Salaried  Occupation_Self_Employed  Channel_Code_X2  \\\n",
              "0                    0                         0                0   \n",
              "1                    1                         0                0   \n",
              "2                    0                         1                0   \n",
              "3                    1                         0                0   \n",
              "4                    1                         0                0   \n",
              "\n",
              "   Channel_Code_X3  Channel_Code_X4  Credit_Product_Yes  Is_Active_Yes  \n",
              "0                1                0                   0              0  \n",
              "1                0                0                   0              0  \n",
              "2                1                0                   0              1  \n",
              "3                0                0                   0              0  \n",
              "4                0                0                   0              0  \n",
              "\n",
              "[5 rows x 48 columns]"
            ]
          },
          "execution_count": 189,
          "metadata": {},
          "output_type": "execute_result"
        }
      ]
    },
    {
      "cell_type": "code",
      "metadata": {
        "id": "VMboNiutUSrS",
        "outputId": "d5c7af39-557d-41c8-c21e-15ba15db211c"
      },
      "source": [
        "dftst1 = pd.get_dummies(dftst, columns=[\n",
        "    'Gender',\n",
        "    'Region_Code',\n",
        "    'Occupation',\n",
        "    'Channel_Code',\n",
        "    'Credit_Product',\n",
        "    'Is_Active'],drop_first = True)\n",
        "\n",
        "dftst1.head()"
      ],
      "execution_count": null,
      "outputs": [
        {
          "data": {
            "text/html": [
              "<div>\n",
              "<style scoped>\n",
              "    .dataframe tbody tr th:only-of-type {\n",
              "        vertical-align: middle;\n",
              "    }\n",
              "\n",
              "    .dataframe tbody tr th {\n",
              "        vertical-align: top;\n",
              "    }\n",
              "\n",
              "    .dataframe thead th {\n",
              "        text-align: right;\n",
              "    }\n",
              "</style>\n",
              "<table border=\"1\" class=\"dataframe\">\n",
              "  <thead>\n",
              "    <tr style=\"text-align: right;\">\n",
              "      <th></th>\n",
              "      <th>ID</th>\n",
              "      <th>Age</th>\n",
              "      <th>Vintage</th>\n",
              "      <th>Avg_Account_Balance</th>\n",
              "      <th>Gender_Male</th>\n",
              "      <th>Region_Code_RG251</th>\n",
              "      <th>Region_Code_RG252</th>\n",
              "      <th>Region_Code_RG253</th>\n",
              "      <th>Region_Code_RG254</th>\n",
              "      <th>Region_Code_RG255</th>\n",
              "      <th>...</th>\n",
              "      <th>Region_Code_RG283</th>\n",
              "      <th>Region_Code_RG284</th>\n",
              "      <th>Occupation_Other</th>\n",
              "      <th>Occupation_Salaried</th>\n",
              "      <th>Occupation_Self_Employed</th>\n",
              "      <th>Channel_Code_X2</th>\n",
              "      <th>Channel_Code_X3</th>\n",
              "      <th>Channel_Code_X4</th>\n",
              "      <th>Credit_Product_Yes</th>\n",
              "      <th>Is_Active_Yes</th>\n",
              "    </tr>\n",
              "  </thead>\n",
              "  <tbody>\n",
              "    <tr>\n",
              "      <th>0</th>\n",
              "      <td>VBENBARO</td>\n",
              "      <td>29</td>\n",
              "      <td>25</td>\n",
              "      <td>742366</td>\n",
              "      <td>1</td>\n",
              "      <td>0</td>\n",
              "      <td>0</td>\n",
              "      <td>0</td>\n",
              "      <td>1</td>\n",
              "      <td>0</td>\n",
              "      <td>...</td>\n",
              "      <td>0</td>\n",
              "      <td>0</td>\n",
              "      <td>1</td>\n",
              "      <td>0</td>\n",
              "      <td>0</td>\n",
              "      <td>0</td>\n",
              "      <td>0</td>\n",
              "      <td>0</td>\n",
              "      <td>1</td>\n",
              "      <td>0</td>\n",
              "    </tr>\n",
              "    <tr>\n",
              "      <th>1</th>\n",
              "      <td>CCMEWNKY</td>\n",
              "      <td>43</td>\n",
              "      <td>49</td>\n",
              "      <td>925537</td>\n",
              "      <td>1</td>\n",
              "      <td>0</td>\n",
              "      <td>0</td>\n",
              "      <td>0</td>\n",
              "      <td>0</td>\n",
              "      <td>0</td>\n",
              "      <td>...</td>\n",
              "      <td>0</td>\n",
              "      <td>0</td>\n",
              "      <td>1</td>\n",
              "      <td>0</td>\n",
              "      <td>0</td>\n",
              "      <td>1</td>\n",
              "      <td>0</td>\n",
              "      <td>0</td>\n",
              "      <td>0</td>\n",
              "      <td>0</td>\n",
              "    </tr>\n",
              "    <tr>\n",
              "      <th>2</th>\n",
              "      <td>VK3KGA9M</td>\n",
              "      <td>31</td>\n",
              "      <td>14</td>\n",
              "      <td>215949</td>\n",
              "      <td>1</td>\n",
              "      <td>0</td>\n",
              "      <td>0</td>\n",
              "      <td>0</td>\n",
              "      <td>0</td>\n",
              "      <td>0</td>\n",
              "      <td>...</td>\n",
              "      <td>0</td>\n",
              "      <td>0</td>\n",
              "      <td>0</td>\n",
              "      <td>1</td>\n",
              "      <td>0</td>\n",
              "      <td>0</td>\n",
              "      <td>0</td>\n",
              "      <td>0</td>\n",
              "      <td>0</td>\n",
              "      <td>0</td>\n",
              "    </tr>\n",
              "    <tr>\n",
              "      <th>3</th>\n",
              "      <td>TT8RPZVC</td>\n",
              "      <td>29</td>\n",
              "      <td>33</td>\n",
              "      <td>868070</td>\n",
              "      <td>1</td>\n",
              "      <td>0</td>\n",
              "      <td>0</td>\n",
              "      <td>0</td>\n",
              "      <td>0</td>\n",
              "      <td>0</td>\n",
              "      <td>...</td>\n",
              "      <td>0</td>\n",
              "      <td>0</td>\n",
              "      <td>1</td>\n",
              "      <td>0</td>\n",
              "      <td>0</td>\n",
              "      <td>0</td>\n",
              "      <td>0</td>\n",
              "      <td>0</td>\n",
              "      <td>0</td>\n",
              "      <td>0</td>\n",
              "    </tr>\n",
              "    <tr>\n",
              "      <th>4</th>\n",
              "      <td>SHQZEYTZ</td>\n",
              "      <td>29</td>\n",
              "      <td>19</td>\n",
              "      <td>657087</td>\n",
              "      <td>0</td>\n",
              "      <td>0</td>\n",
              "      <td>0</td>\n",
              "      <td>0</td>\n",
              "      <td>0</td>\n",
              "      <td>0</td>\n",
              "      <td>...</td>\n",
              "      <td>0</td>\n",
              "      <td>0</td>\n",
              "      <td>1</td>\n",
              "      <td>0</td>\n",
              "      <td>0</td>\n",
              "      <td>0</td>\n",
              "      <td>0</td>\n",
              "      <td>0</td>\n",
              "      <td>0</td>\n",
              "      <td>0</td>\n",
              "    </tr>\n",
              "  </tbody>\n",
              "</table>\n",
              "<p>5 rows × 47 columns</p>\n",
              "</div>"
            ],
            "text/plain": [
              "         ID  Age  Vintage  Avg_Account_Balance  Gender_Male  \\\n",
              "0  VBENBARO   29       25               742366            1   \n",
              "1  CCMEWNKY   43       49               925537            1   \n",
              "2  VK3KGA9M   31       14               215949            1   \n",
              "3  TT8RPZVC   29       33               868070            1   \n",
              "4  SHQZEYTZ   29       19               657087            0   \n",
              "\n",
              "   Region_Code_RG251  Region_Code_RG252  Region_Code_RG253  Region_Code_RG254  \\\n",
              "0                  0                  0                  0                  1   \n",
              "1                  0                  0                  0                  0   \n",
              "2                  0                  0                  0                  0   \n",
              "3                  0                  0                  0                  0   \n",
              "4                  0                  0                  0                  0   \n",
              "\n",
              "   Region_Code_RG255  ...  Region_Code_RG283  Region_Code_RG284  \\\n",
              "0                  0  ...                  0                  0   \n",
              "1                  0  ...                  0                  0   \n",
              "2                  0  ...                  0                  0   \n",
              "3                  0  ...                  0                  0   \n",
              "4                  0  ...                  0                  0   \n",
              "\n",
              "   Occupation_Other  Occupation_Salaried  Occupation_Self_Employed  \\\n",
              "0                 1                    0                         0   \n",
              "1                 1                    0                         0   \n",
              "2                 0                    1                         0   \n",
              "3                 1                    0                         0   \n",
              "4                 1                    0                         0   \n",
              "\n",
              "   Channel_Code_X2  Channel_Code_X3  Channel_Code_X4  Credit_Product_Yes  \\\n",
              "0                0                0                0                   1   \n",
              "1                1                0                0                   0   \n",
              "2                0                0                0                   0   \n",
              "3                0                0                0                   0   \n",
              "4                0                0                0                   0   \n",
              "\n",
              "   Is_Active_Yes  \n",
              "0              0  \n",
              "1              0  \n",
              "2              0  \n",
              "3              0  \n",
              "4              0  \n",
              "\n",
              "[5 rows x 47 columns]"
            ]
          },
          "execution_count": 190,
          "metadata": {},
          "output_type": "execute_result"
        }
      ]
    },
    {
      "cell_type": "markdown",
      "metadata": {
        "id": "eoFHjldNUSrT"
      },
      "source": [
        "## Train Test Split"
      ]
    },
    {
      "cell_type": "code",
      "metadata": {
        "id": "pIz9-OKuUSrT"
      },
      "source": [
        "X = df1.drop(['Is_Lead','ID'],axis=1).values\n",
        "y = df1['Is_Lead'].values"
      ],
      "execution_count": null,
      "outputs": []
    },
    {
      "cell_type": "code",
      "metadata": {
        "id": "bQvv3_00USrT"
      },
      "source": [
        "from sklearn.model_selection import train_test_split"
      ],
      "execution_count": null,
      "outputs": []
    },
    {
      "cell_type": "code",
      "metadata": {
        "id": "ripu-SqrUSrT"
      },
      "source": [
        "# X_train, X_test, y_train, y_test = train_test_split(X,y,test_size=0.25,random_state=101)\n",
        "X_train, X_test, y_train, y_test = train_test_split(X,y,test_size=0.25)"
      ],
      "execution_count": null,
      "outputs": []
    },
    {
      "cell_type": "markdown",
      "metadata": {
        "id": "2aoxm5O-USrT"
      },
      "source": [
        "\n",
        "## Scaling Data"
      ]
    },
    {
      "cell_type": "code",
      "metadata": {
        "id": "xJ545KNhUSrT"
      },
      "source": [
        "from sklearn.preprocessing import MinMaxScaler"
      ],
      "execution_count": null,
      "outputs": []
    },
    {
      "cell_type": "code",
      "metadata": {
        "id": "n-NIfqJfUSrU"
      },
      "source": [
        "scaler = MinMaxScaler()"
      ],
      "execution_count": null,
      "outputs": []
    },
    {
      "cell_type": "code",
      "metadata": {
        "id": "aSMAlVL8USrU",
        "outputId": "1fc6dd66-e2f2-4ce0-d128-0a1478a2dd1e"
      },
      "source": [
        "scaler.fit(X_train)"
      ],
      "execution_count": null,
      "outputs": [
        {
          "data": {
            "text/plain": [
              "MinMaxScaler()"
            ]
          },
          "execution_count": 196,
          "metadata": {},
          "output_type": "execute_result"
        }
      ]
    },
    {
      "cell_type": "code",
      "metadata": {
        "id": "NJrGwK4aUSrU"
      },
      "source": [
        "X_train = scaler.transform(X_train)\n",
        "X_test = scaler.transform(X_test)"
      ],
      "execution_count": null,
      "outputs": []
    },
    {
      "cell_type": "markdown",
      "metadata": {
        "id": "fc7tOpkIUSrU"
      },
      "source": [
        "# Creating the Model"
      ]
    },
    {
      "cell_type": "code",
      "metadata": {
        "id": "BgRvdQnhUSrU"
      },
      "source": [
        "import tensorflow as tf\n",
        "from tensorflow.keras.models import Sequential\n",
        "from tensorflow.keras.layers import Dense, Activation,Dropout"
      ],
      "execution_count": null,
      "outputs": []
    },
    {
      "cell_type": "code",
      "metadata": {
        "id": "nRPMkwY0USrU",
        "outputId": "ff34c28d-ccea-4a00-e87c-87eede20d031"
      },
      "source": [
        "X_train.shape"
      ],
      "execution_count": null,
      "outputs": [
        {
          "data": {
            "text/plain": [
              "(184293, 46)"
            ]
          },
          "execution_count": 199,
          "metadata": {},
          "output_type": "execute_result"
        }
      ]
    },
    {
      "cell_type": "code",
      "metadata": {
        "id": "Qrv8m5aUUSrU"
      },
      "source": [
        "model = Sequential()\n",
        "\n",
        "model.add(Dense(units=46,activation='relu'))\n",
        "\n",
        "model.add(Dense(units=23,activation='relu'))\n",
        "\n",
        "model.add(Dense(units=1,activation='sigmoid'))\n",
        "\n",
        "model.compile(optimizer='sgd',\n",
        "              loss=tf.keras.losses.BinaryCrossentropy(),\n",
        "              metrics=[tf.keras.metrics.AUC()])"
      ],
      "execution_count": null,
      "outputs": []
    },
    {
      "cell_type": "markdown",
      "metadata": {
        "id": "VcB7LwiKUSrU"
      },
      "source": [
        "## Training the Model"
      ]
    },
    {
      "cell_type": "code",
      "metadata": {
        "collapsed": true,
        "jupyter": {
          "outputs_hidden": true
        },
        "tags": [],
        "id": "RrTBOq_hUSrV",
        "outputId": "4fe53b59-60ff-4bc7-9019-a7b0375fc4b7"
      },
      "source": [
        "model.fit(x=X_train, \n",
        "          y=y_train, \n",
        "          epochs=100,\n",
        "          validation_data=(X_test, y_test), verbose=1\n",
        "          )"
      ],
      "execution_count": null,
      "outputs": [
        {
          "name": "stdout",
          "output_type": "stream",
          "text": [
            "Epoch 1/100\n",
            "5760/5760 [==============================] - 21s 3ms/step - loss: 0.5286 - auc: 0.6348 - val_loss: 0.4798 - val_auc: 0.7390\n",
            "Epoch 2/100\n",
            "5760/5760 [==============================] - 23s 4ms/step - loss: 0.4737 - auc: 0.7438 - val_loss: 0.4704 - val_auc: 0.7478\n",
            "Epoch 3/100\n",
            "5760/5760 [==============================] - 20s 3ms/step - loss: 0.4649 - auc: 0.7523 - val_loss: 0.4671 - val_auc: 0.7520\n",
            "Epoch 4/100\n",
            "5760/5760 [==============================] - 20s 4ms/step - loss: 0.4628 - auc: 0.7545 - val_loss: 0.4650 - val_auc: 0.7545\n",
            "Epoch 5/100\n",
            "5760/5760 [==============================] - 21s 4ms/step - loss: 0.4607 - auc: 0.7567 - val_loss: 0.4635 - val_auc: 0.7561\n",
            "Epoch 6/100\n",
            "5760/5760 [==============================] - 22s 4ms/step - loss: 0.4595 - auc: 0.7592 - val_loss: 0.4637 - val_auc: 0.7576\n",
            "Epoch 7/100\n",
            "5760/5760 [==============================] - 20s 4ms/step - loss: 0.4581 - auc: 0.7615 - val_loss: 0.4614 - val_auc: 0.7590\n",
            "Epoch 8/100\n",
            "5760/5760 [==============================] - 23s 4ms/step - loss: 0.4589 - auc: 0.7609 - val_loss: 0.4609 - val_auc: 0.7597\n",
            "Epoch 9/100\n",
            "5760/5760 [==============================] - 19s 3ms/step - loss: 0.4554 - auc: 0.7641 - val_loss: 0.4607 - val_auc: 0.7601\n",
            "Epoch 10/100\n",
            "5760/5760 [==============================] - 21s 4ms/step - loss: 0.4596 - auc: 0.7644 - val_loss: 0.4604 - val_auc: 0.7607\n",
            "Epoch 11/100\n",
            "5760/5760 [==============================] - 20s 3ms/step - loss: 0.4531 - auc: 0.7652 - val_loss: 0.4598 - val_auc: 0.7608\n",
            "Epoch 12/100\n",
            "5760/5760 [==============================] - 15s 3ms/step - loss: 0.4572 - auc: 0.7618 - val_loss: 0.4594 - val_auc: 0.7617\n",
            "Epoch 13/100\n",
            "5760/5760 [==============================] - 17s 3ms/step - loss: 0.4558 - auc: 0.7641 - val_loss: 0.4597 - val_auc: 0.7617\n",
            "Epoch 14/100\n",
            "5760/5760 [==============================] - 17s 3ms/step - loss: 0.4578 - auc: 0.7636 - val_loss: 0.4593 - val_auc: 0.7622\n",
            "Epoch 15/100\n",
            "5760/5760 [==============================] - 17s 3ms/step - loss: 0.4550 - auc: 0.7658 - val_loss: 0.4587 - val_auc: 0.7623\n",
            "Epoch 16/100\n",
            "5760/5760 [==============================] - 17s 3ms/step - loss: 0.4525 - auc: 0.7667 - val_loss: 0.4589 - val_auc: 0.7623\n",
            "Epoch 17/100\n",
            "5760/5760 [==============================] - 21s 4ms/step - loss: 0.4548 - auc: 0.7652 - val_loss: 0.4585 - val_auc: 0.7629\n",
            "Epoch 18/100\n",
            "5760/5760 [==============================] - 17s 3ms/step - loss: 0.4547 - auc: 0.7656 - val_loss: 0.4590 - val_auc: 0.7631\n",
            "Epoch 19/100\n",
            "5760/5760 [==============================] - 18s 3ms/step - loss: 0.4530 - auc: 0.7658 - val_loss: 0.4597 - val_auc: 0.7633\n",
            "Epoch 20/100\n",
            "5760/5760 [==============================] - 17s 3ms/step - loss: 0.4531 - auc: 0.7670 - val_loss: 0.4586 - val_auc: 0.7633\n",
            "Epoch 21/100\n",
            "5760/5760 [==============================] - 16s 3ms/step - loss: 0.4529 - auc: 0.7683 - val_loss: 0.4594 - val_auc: 0.7634\n",
            "Epoch 22/100\n",
            "5760/5760 [==============================] - 16s 3ms/step - loss: 0.4518 - auc: 0.7688 - val_loss: 0.4580 - val_auc: 0.7642\n",
            "Epoch 23/100\n",
            "5760/5760 [==============================] - 15s 3ms/step - loss: 0.4526 - auc: 0.7683 - val_loss: 0.4577 - val_auc: 0.7642\n",
            "Epoch 24/100\n",
            "5760/5760 [==============================] - 15s 3ms/step - loss: 0.4530 - auc: 0.7674 - val_loss: 0.4573 - val_auc: 0.7641\n",
            "Epoch 25/100\n",
            "5760/5760 [==============================] - 15s 3ms/step - loss: 0.4528 - auc: 0.7678 - val_loss: 0.4571 - val_auc: 0.7651\n",
            "Epoch 26/100\n",
            "5760/5760 [==============================] - 17s 3ms/step - loss: 0.4539 - auc: 0.7679 - val_loss: 0.4580 - val_auc: 0.7654\n",
            "Epoch 27/100\n",
            "5760/5760 [==============================] - 17s 3ms/step - loss: 0.4528 - auc: 0.7667 - val_loss: 0.4563 - val_auc: 0.7658\n",
            "Epoch 28/100\n",
            "5760/5760 [==============================] - 15s 3ms/step - loss: 0.4520 - auc: 0.7701 - val_loss: 0.4562 - val_auc: 0.7656\n",
            "Epoch 29/100\n",
            "5760/5760 [==============================] - 16s 3ms/step - loss: 0.4502 - auc: 0.7711 - val_loss: 0.4561 - val_auc: 0.7661\n",
            "Epoch 30/100\n",
            "5760/5760 [==============================] - 15s 3ms/step - loss: 0.4503 - auc: 0.7710 - val_loss: 0.4561 - val_auc: 0.7666\n",
            "Epoch 31/100\n",
            "5760/5760 [==============================] - 14s 3ms/step - loss: 0.4516 - auc: 0.7682 - val_loss: 0.4565 - val_auc: 0.7664\n",
            "Epoch 32/100\n",
            "5760/5760 [==============================] - 16s 3ms/step - loss: 0.4528 - auc: 0.7694 - val_loss: 0.4573 - val_auc: 0.7672\n",
            "Epoch 33/100\n",
            "5760/5760 [==============================] - 15s 3ms/step - loss: 0.4526 - auc: 0.7694 - val_loss: 0.4558 - val_auc: 0.7679\n",
            "Epoch 34/100\n",
            "5760/5760 [==============================] - 16s 3ms/step - loss: 0.4498 - auc: 0.7724 - val_loss: 0.4564 - val_auc: 0.7679\n",
            "Epoch 35/100\n",
            "5760/5760 [==============================] - 15s 3ms/step - loss: 0.4483 - auc: 0.7731 - val_loss: 0.4553 - val_auc: 0.7687\n",
            "Epoch 36/100\n",
            "5760/5760 [==============================] - 15s 3ms/step - loss: 0.4484 - auc: 0.7734 - val_loss: 0.4547 - val_auc: 0.7691\n",
            "Epoch 37/100\n",
            "5760/5760 [==============================] - 18s 3ms/step - loss: 0.4489 - auc: 0.7742 - val_loss: 0.4542 - val_auc: 0.7690\n",
            "Epoch 38/100\n",
            "5760/5760 [==============================] - 14s 3ms/step - loss: 0.4498 - auc: 0.7757 - val_loss: 0.4543 - val_auc: 0.7697\n",
            "Epoch 39/100\n",
            "5760/5760 [==============================] - 12s 2ms/step - loss: 0.4491 - auc: 0.7741 - val_loss: 0.4538 - val_auc: 0.7701\n",
            "Epoch 40/100\n",
            "5760/5760 [==============================] - 11s 2ms/step - loss: 0.4495 - auc: 0.7749 - val_loss: 0.4541 - val_auc: 0.7709\n",
            "Epoch 41/100\n",
            "5760/5760 [==============================] - 11s 2ms/step - loss: 0.4493 - auc: 0.7767 - val_loss: 0.4561 - val_auc: 0.7708\n",
            "Epoch 42/100\n",
            "5760/5760 [==============================] - 11s 2ms/step - loss: 0.4478 - auc: 0.7765 - val_loss: 0.4534 - val_auc: 0.7715\n",
            "Epoch 43/100\n",
            "5760/5760 [==============================] - 11s 2ms/step - loss: 0.4446 - auc: 0.7778 - val_loss: 0.4540 - val_auc: 0.7717\n",
            "Epoch 44/100\n",
            "5760/5760 [==============================] - 12s 2ms/step - loss: 0.4481 - auc: 0.7776 - val_loss: 0.4525 - val_auc: 0.7718\n",
            "Epoch 45/100\n",
            "5760/5760 [==============================] - 12s 2ms/step - loss: 0.4461 - auc: 0.7776 - val_loss: 0.4531 - val_auc: 0.7718\n",
            "Epoch 46/100\n",
            "5760/5760 [==============================] - 11s 2ms/step - loss: 0.4468 - auc: 0.7764 - val_loss: 0.4524 - val_auc: 0.7726\n",
            "Epoch 47/100\n",
            "5760/5760 [==============================] - 13s 2ms/step - loss: 0.4474 - auc: 0.7782 - val_loss: 0.4524 - val_auc: 0.7723\n",
            "Epoch 48/100\n",
            "5760/5760 [==============================] - 11s 2ms/step - loss: 0.4459 - auc: 0.7785 - val_loss: 0.4522 - val_auc: 0.7724\n",
            "Epoch 49/100\n",
            "5760/5760 [==============================] - 11s 2ms/step - loss: 0.4472 - auc: 0.7776 - val_loss: 0.4538 - val_auc: 0.7726\n",
            "Epoch 50/100\n",
            "5760/5760 [==============================] - 13s 2ms/step - loss: 0.4469 - auc: 0.7766 - val_loss: 0.4527 - val_auc: 0.7733\n",
            "Epoch 51/100\n",
            "5760/5760 [==============================] - 14s 2ms/step - loss: 0.4445 - auc: 0.7787 - val_loss: 0.4527 - val_auc: 0.7730\n",
            "Epoch 52/100\n",
            "5760/5760 [==============================] - 14s 3ms/step - loss: 0.4445 - auc: 0.7811 - val_loss: 0.4513 - val_auc: 0.7735\n",
            "Epoch 53/100\n",
            "5760/5760 [==============================] - 17s 3ms/step - loss: 0.4464 - auc: 0.7790 - val_loss: 0.4575 - val_auc: 0.7740\n",
            "Epoch 54/100\n",
            "5760/5760 [==============================] - 19s 3ms/step - loss: 0.4439 - auc: 0.7816 - val_loss: 0.4509 - val_auc: 0.7742\n",
            "Epoch 55/100\n",
            "5760/5760 [==============================] - 20s 3ms/step - loss: 0.4469 - auc: 0.7787 - val_loss: 0.4510 - val_auc: 0.7743\n",
            "Epoch 56/100\n",
            "5760/5760 [==============================] - 19s 3ms/step - loss: 0.4447 - auc: 0.7803 - val_loss: 0.4507 - val_auc: 0.7750\n",
            "Epoch 57/100\n",
            "5760/5760 [==============================] - 19s 3ms/step - loss: 0.4458 - auc: 0.7806 - val_loss: 0.4554 - val_auc: 0.7750\n",
            "Epoch 58/100\n",
            "5760/5760 [==============================] - 19s 3ms/step - loss: 0.4431 - auc: 0.7826 - val_loss: 0.4518 - val_auc: 0.7755\n",
            "Epoch 59/100\n",
            "5760/5760 [==============================] - 19s 3ms/step - loss: 0.4421 - auc: 0.7833 - val_loss: 0.4509 - val_auc: 0.7752\n",
            "Epoch 60/100\n",
            "5760/5760 [==============================] - 25s 4ms/step - loss: 0.4428 - auc: 0.7825 - val_loss: 0.4497 - val_auc: 0.7762\n",
            "Epoch 61/100\n",
            "5760/5760 [==============================] - 23s 4ms/step - loss: 0.4436 - auc: 0.7825 - val_loss: 0.4500 - val_auc: 0.7760\n",
            "Epoch 62/100\n",
            "5760/5760 [==============================] - 17s 3ms/step - loss: 0.4450 - auc: 0.7797 - val_loss: 0.4495 - val_auc: 0.7766\n",
            "Epoch 63/100\n",
            "5760/5760 [==============================] - 12s 2ms/step - loss: 0.4435 - auc: 0.7833 - val_loss: 0.4491 - val_auc: 0.7775\n",
            "Epoch 64/100\n",
            "5760/5760 [==============================] - 12s 2ms/step - loss: 0.4389 - auc: 0.7871 - val_loss: 0.4497 - val_auc: 0.7775\n",
            "Epoch 65/100\n",
            "5760/5760 [==============================] - 15s 3ms/step - loss: 0.4430 - auc: 0.7832 - val_loss: 0.4501 - val_auc: 0.7774\n",
            "Epoch 66/100\n",
            "5760/5760 [==============================] - 14s 2ms/step - loss: 0.4409 - auc: 0.7852 - val_loss: 0.4486 - val_auc: 0.7782\n",
            "Epoch 67/100\n",
            "5760/5760 [==============================] - 19s 3ms/step - loss: 0.4412 - auc: 0.7846 - val_loss: 0.4488 - val_auc: 0.7789\n",
            "Epoch 68/100\n",
            "5760/5760 [==============================] - 17s 3ms/step - loss: 0.4408 - auc: 0.7856 - val_loss: 0.4486 - val_auc: 0.7783\n",
            "Epoch 69/100\n",
            "5760/5760 [==============================] - 25s 4ms/step - loss: 0.4400 - auc: 0.7858 - val_loss: 0.4477 - val_auc: 0.7792\n",
            "Epoch 70/100\n",
            "5760/5760 [==============================] - 32s 6ms/step - loss: 0.4409 - auc: 0.7861 - val_loss: 0.4478 - val_auc: 0.7786\n",
            "Epoch 71/100\n",
            "5760/5760 [==============================] - 30s 5ms/step - loss: 0.4405 - auc: 0.7850 - val_loss: 0.4582 - val_auc: 0.7790\n",
            "Epoch 72/100\n",
            "5760/5760 [==============================] - 30s 5ms/step - loss: 0.4410 - auc: 0.7872 - val_loss: 0.4481 - val_auc: 0.7790\n",
            "Epoch 73/100\n",
            "5760/5760 [==============================] - 24s 4ms/step - loss: 0.4396 - auc: 0.7869 - val_loss: 0.4476 - val_auc: 0.7793\n",
            "Epoch 74/100\n",
            "5760/5760 [==============================] - 23s 4ms/step - loss: 0.4406 - auc: 0.7865 - val_loss: 0.4538 - val_auc: 0.7800\n",
            "Epoch 75/100\n",
            "5760/5760 [==============================] - 19s 3ms/step - loss: 0.4437 - auc: 0.7842 - val_loss: 0.4475 - val_auc: 0.7804\n",
            "Epoch 76/100\n",
            "5760/5760 [==============================] - 16s 3ms/step - loss: 0.4392 - auc: 0.7887 - val_loss: 0.4485 - val_auc: 0.7799\n",
            "Epoch 77/100\n",
            "5760/5760 [==============================] - 16s 3ms/step - loss: 0.4398 - auc: 0.7861 - val_loss: 0.4499 - val_auc: 0.7806\n",
            "Epoch 78/100\n",
            "5760/5760 [==============================] - 13s 2ms/step - loss: 0.4368 - auc: 0.7907 - val_loss: 0.4466 - val_auc: 0.7811\n",
            "Epoch 79/100\n",
            "5760/5760 [==============================] - 21s 4ms/step - loss: 0.4385 - auc: 0.7903 - val_loss: 0.4500 - val_auc: 0.7794\n",
            "Epoch 80/100\n",
            "5760/5760 [==============================] - 19s 3ms/step - loss: 0.4391 - auc: 0.7880 - val_loss: 0.4463 - val_auc: 0.7811\n",
            "Epoch 81/100\n",
            "5760/5760 [==============================] - 17s 3ms/step - loss: 0.4410 - auc: 0.7871 - val_loss: 0.4476 - val_auc: 0.7804\n",
            "Epoch 82/100\n",
            "5760/5760 [==============================] - 24s 4ms/step - loss: 0.4383 - auc: 0.7891 - val_loss: 0.4469 - val_auc: 0.7811\n",
            "Epoch 83/100\n",
            "5760/5760 [==============================] - 22s 4ms/step - loss: 0.4400 - auc: 0.7901 - val_loss: 0.4472 - val_auc: 0.7805\n",
            "Epoch 84/100\n",
            "5760/5760 [==============================] - 22s 4ms/step - loss: 0.4374 - auc: 0.7891 - val_loss: 0.4458 - val_auc: 0.7817\n",
            "Epoch 85/100\n",
            "5760/5760 [==============================] - 17s 3ms/step - loss: 0.4392 - auc: 0.7881 - val_loss: 0.4464 - val_auc: 0.7815\n",
            "Epoch 86/100\n",
            "5760/5760 [==============================] - 19s 3ms/step - loss: 0.4379 - auc: 0.7911 - val_loss: 0.4471 - val_auc: 0.7813\n",
            "Epoch 87/100\n",
            "5760/5760 [==============================] - 20s 3ms/step - loss: 0.4354 - auc: 0.7918 - val_loss: 0.4461 - val_auc: 0.7816\n",
            "Epoch 88/100\n",
            "5760/5760 [==============================] - 20s 3ms/step - loss: 0.4381 - auc: 0.7891 - val_loss: 0.4462 - val_auc: 0.7813\n",
            "Epoch 89/100\n",
            "5760/5760 [==============================] - 18s 3ms/step - loss: 0.4386 - auc: 0.7889 - val_loss: 0.4469 - val_auc: 0.7810\n",
            "Epoch 90/100\n",
            "5760/5760 [==============================] - 16s 3ms/step - loss: 0.4389 - auc: 0.7894 - val_loss: 0.4459 - val_auc: 0.7819\n",
            "Epoch 91/100\n",
            "5760/5760 [==============================] - 17s 3ms/step - loss: 0.4358 - auc: 0.7908 - val_loss: 0.4500 - val_auc: 0.7808\n",
            "Epoch 92/100\n",
            "5760/5760 [==============================] - 20s 4ms/step - loss: 0.4371 - auc: 0.7921 - val_loss: 0.4463 - val_auc: 0.7814\n",
            "Epoch 93/100\n",
            "5760/5760 [==============================] - 19s 3ms/step - loss: 0.4394 - auc: 0.7878 - val_loss: 0.4464 - val_auc: 0.7821\n",
            "Epoch 94/100\n",
            "5760/5760 [==============================] - 17s 3ms/step - loss: 0.4369 - auc: 0.7904 - val_loss: 0.4458 - val_auc: 0.7817\n",
            "Epoch 95/100\n",
            "5760/5760 [==============================] - 18s 3ms/step - loss: 0.4362 - auc: 0.7902 - val_loss: 0.4486 - val_auc: 0.7814\n",
            "Epoch 96/100\n",
            "5760/5760 [==============================] - 18s 3ms/step - loss: 0.4381 - auc: 0.7905 - val_loss: 0.4465 - val_auc: 0.7815\n",
            "Epoch 97/100\n",
            "5760/5760 [==============================] - 19s 3ms/step - loss: 0.4384 - auc: 0.7896 - val_loss: 0.4478 - val_auc: 0.7810\n",
            "Epoch 98/100\n",
            "5760/5760 [==============================] - 17s 3ms/step - loss: 0.4393 - auc: 0.7884 - val_loss: 0.4466 - val_auc: 0.7819\n",
            "Epoch 99/100\n",
            "5760/5760 [==============================] - 18s 3ms/step - loss: 0.4379 - auc: 0.7897 - val_loss: 0.4465 - val_auc: 0.7816\n",
            "Epoch 100/100\n",
            "5760/5760 [==============================] - 16s 3ms/step - loss: 0.4364 - auc: 0.7921 - val_loss: 0.4456 - val_auc: 0.7822\n"
          ]
        },
        {
          "data": {
            "text/plain": [
              "<tensorflow.python.keras.callbacks.History at 0x7f84915d5040>"
            ]
          },
          "execution_count": 33,
          "metadata": {},
          "output_type": "execute_result"
        }
      ]
    },
    {
      "cell_type": "code",
      "metadata": {
        "id": "KOOrc_KFUSrV",
        "outputId": "b857f2df-474c-4207-afc4-746c76597a3e"
      },
      "source": [
        "model_loss = pd.DataFrame(model.history.history)\n",
        "model_loss.plot()"
      ],
      "execution_count": null,
      "outputs": [
        {
          "data": {
            "text/plain": [
              "<matplotlib.axes._subplots.AxesSubplot at 0x7f849288fe20>"
            ]
          },
          "execution_count": 35,
          "metadata": {},
          "output_type": "execute_result"
        },
        {
          "data": {
            "image/png": "[encoded data removed]",
            "text/plain": [
              "<Figure size 432x288 with 1 Axes>"
            ]
          },
          "metadata": {
            "needs_background": "light"
          },
          "output_type": "display_data"
        }
      ]
    },
    {
      "cell_type": "markdown",
      "metadata": {
        "id": "qUXzln6KUSrV"
      },
      "source": [
        "# Model Tuning\n",
        "## Adding in EarlyStopping"
      ]
    },
    {
      "cell_type": "code",
      "metadata": {
        "id": "cCTy4Z-sUSrV"
      },
      "source": [
        "model = Sequential()\n",
        "model.add(Dense(units=46,activation='relu'))\n",
        "model.add(Dense(units=23,activation='relu'))\n",
        "model.add(Dense(units=1,activation='sigmoid'))\n",
        "model.compile(optimizer='sgd',\n",
        "              loss=tf.keras.losses.BinaryCrossentropy(),\n",
        "              metrics=[tf.keras.metrics.AUC()])"
      ],
      "execution_count": null,
      "outputs": []
    },
    {
      "cell_type": "code",
      "metadata": {
        "id": "b3VipOclUSrV"
      },
      "source": [
        "from tensorflow.keras.callbacks import EarlyStopping"
      ],
      "execution_count": null,
      "outputs": []
    },
    {
      "cell_type": "code",
      "metadata": {
        "id": "NOOeSM7GUSrV"
      },
      "source": [
        "early_stop = EarlyStopping(monitor='val_loss', mode='min', verbose=1, patience=5)"
      ],
      "execution_count": null,
      "outputs": []
    },
    {
      "cell_type": "markdown",
      "metadata": {
        "id": "npvDGcB7USrV"
      },
      "source": [
        "# Adding in DropOut Layers"
      ]
    },
    {
      "cell_type": "code",
      "metadata": {
        "id": "mjlhJBNiUSrW"
      },
      "source": [
        "from tensorflow.keras.layers import Dropout"
      ],
      "execution_count": null,
      "outputs": []
    },
    {
      "cell_type": "code",
      "metadata": {
        "id": "Sv9jBQ4yUSrW"
      },
      "source": [
        "model = Sequential()\n",
        "model.add(Dense(units=46,activation='relu'))\n",
        "model.add(Dropout(0.5))\n",
        "\n",
        "model.add(Dense(units=23,activation='relu'))\n",
        "model.add(Dropout(0.5))\n",
        "\n",
        "model.add(Dense(units=1,activation='sigmoid'))\n",
        "\n",
        "# model.compile(optimizer='sgd',\n",
        "#               loss=tf.keras.losses.BinaryCrossentropy(),\n",
        "#               metrics=[tf.keras.metrics.AUC()])\n",
        "model.compile(loss=\"binary_crossentropy\", optimizer='adam', metrics=[tf.keras.metrics.AUC()])"
      ],
      "execution_count": null,
      "outputs": []
    },
    {
      "cell_type": "code",
      "metadata": {
        "collapsed": true,
        "jupyter": {
          "outputs_hidden": true
        },
        "tags": [],
        "id": "kQnif7WLUSrW",
        "outputId": "8d62135f-d37e-48d5-c85c-a4c647e9ccba"
      },
      "source": [
        "model.fit(x=X_train, \n",
        "          y=y_train, \n",
        "          epochs=100,\n",
        "          validation_data=(X_test, y_test), verbose=1,\n",
        "          callbacks=[early_stop]\n",
        "          )"
      ],
      "execution_count": null,
      "outputs": [
        {
          "name": "stdout",
          "output_type": "stream",
          "text": [
            "Epoch 1/100\n",
            "5760/5760 [==============================] - 21s 3ms/step - loss: 0.5311 - auc_8: 0.6524 - val_loss: 0.4629 - val_auc_8: 0.7538\n",
            "Epoch 2/100\n",
            "5760/5760 [==============================] - 16s 3ms/step - loss: 0.4776 - auc_8: 0.7405 - val_loss: 0.4559 - val_auc_8: 0.7593\n",
            "Epoch 3/100\n",
            "5760/5760 [==============================] - 16s 3ms/step - loss: 0.4692 - auc_8: 0.7492 - val_loss: 0.4544 - val_auc_8: 0.7630\n",
            "Epoch 4/100\n",
            "5760/5760 [==============================] - 17s 3ms/step - loss: 0.4666 - auc_8: 0.7543 - val_loss: 0.4528 - val_auc_8: 0.7648\n",
            "Epoch 5/100\n",
            "5760/5760 [==============================] - 17s 3ms/step - loss: 0.4672 - auc_8: 0.7554 - val_loss: 0.4512 - val_auc_8: 0.7656\n",
            "Epoch 6/100\n",
            "5760/5760 [==============================] - 25s 4ms/step - loss: 0.4637 - auc_8: 0.7560 - val_loss: 0.4501 - val_auc_8: 0.7693\n",
            "Epoch 7/100\n",
            "5760/5760 [==============================] - 21s 4ms/step - loss: 0.4642 - auc_8: 0.7577 - val_loss: 0.4498 - val_auc_8: 0.7705\n",
            "Epoch 8/100\n",
            "5760/5760 [==============================] - 23s 4ms/step - loss: 0.4655 - auc_8: 0.7594 - val_loss: 0.4507 - val_auc_8: 0.7706\n",
            "Epoch 9/100\n",
            "5760/5760 [==============================] - 21s 4ms/step - loss: 0.4644 - auc_8: 0.7578 - val_loss: 0.4495 - val_auc_8: 0.7708\n",
            "Epoch 10/100\n",
            "5760/5760 [==============================] - 17s 3ms/step - loss: 0.4648 - auc_8: 0.7580 - val_loss: 0.4480 - val_auc_8: 0.7725\n",
            "Epoch 11/100\n",
            "5760/5760 [==============================] - 17s 3ms/step - loss: 0.4627 - auc_8: 0.7621 - val_loss: 0.4499 - val_auc_8: 0.7721\n",
            "Epoch 12/100\n",
            "5760/5760 [==============================] - 19s 3ms/step - loss: 0.4634 - auc_8: 0.7604 - val_loss: 0.4487 - val_auc_8: 0.7732\n",
            "Epoch 13/100\n",
            "5760/5760 [==============================] - 17s 3ms/step - loss: 0.4634 - auc_8: 0.7598 - val_loss: 0.4471 - val_auc_8: 0.7733\n",
            "Epoch 14/100\n",
            "5760/5760 [==============================] - 17s 3ms/step - loss: 0.4618 - auc_8: 0.7630 - val_loss: 0.4473 - val_auc_8: 0.7738\n",
            "Epoch 15/100\n",
            "5760/5760 [==============================] - 16s 3ms/step - loss: 0.4629 - auc_8: 0.7630 - val_loss: 0.4473 - val_auc_8: 0.7735\n",
            "Epoch 16/100\n",
            "5760/5760 [==============================] - 17s 3ms/step - loss: 0.4627 - auc_8: 0.7622 - val_loss: 0.4484 - val_auc_8: 0.7734\n",
            "Epoch 17/100\n",
            "5760/5760 [==============================] - 28s 5ms/step - loss: 0.4621 - auc_8: 0.7660 - val_loss: 0.4475 - val_auc_8: 0.7744\n",
            "Epoch 18/100\n",
            "5760/5760 [==============================] - 31s 5ms/step - loss: 0.4644 - auc_8: 0.7606 - val_loss: 0.4465 - val_auc_8: 0.7741\n",
            "Epoch 19/100\n",
            "5760/5760 [==============================] - 28s 5ms/step - loss: 0.4593 - auc_8: 0.7655 - val_loss: 0.4471 - val_auc_8: 0.7752\n",
            "Epoch 20/100\n",
            "5760/5760 [==============================] - 30s 5ms/step - loss: 0.4593 - auc_8: 0.7656 - val_loss: 0.4470 - val_auc_8: 0.7749\n",
            "Epoch 21/100\n",
            "5760/5760 [==============================] - 30s 5ms/step - loss: 0.4606 - auc_8: 0.7635 - val_loss: 0.4464 - val_auc_8: 0.7746\n",
            "Epoch 22/100\n",
            "5760/5760 [==============================] - 29s 5ms/step - loss: 0.4626 - auc_8: 0.7608 - val_loss: 0.4458 - val_auc_8: 0.7752\n",
            "Epoch 23/100\n",
            "5760/5760 [==============================] - 25s 4ms/step - loss: 0.4591 - auc_8: 0.7668 - val_loss: 0.4468 - val_auc_8: 0.7743\n",
            "Epoch 24/100\n",
            "5756/5760 [============================>.] - ETA: 0s - loss: 0.4610 - auc_8: 0.7649"
          ]
        },
        {
          "ename": "KeyboardInterrupt",
          "evalue": "",
          "output_type": "error",
          "traceback": [
            "\u001b[0;31m---------------------------------------------------------------------------\u001b[0m",
            "\u001b[0;31mKeyboardInterrupt\u001b[0m                         Traceback (most recent call last)",
            "\u001b[0;32m<ipython-input-208-e483905c0701>\u001b[0m in \u001b[0;36m<module>\u001b[0;34m\u001b[0m\n\u001b[0;32m----> 1\u001b[0;31m model.fit(x=X_train, \n\u001b[0m\u001b[1;32m      2\u001b[0m           \u001b[0my\u001b[0m\u001b[0;34m=\u001b[0m\u001b[0my_train\u001b[0m\u001b[0;34m,\u001b[0m\u001b[0;34m\u001b[0m\u001b[0;34m\u001b[0m\u001b[0m\n\u001b[1;32m      3\u001b[0m           \u001b[0mepochs\u001b[0m\u001b[0;34m=\u001b[0m\u001b[0;36m100\u001b[0m\u001b[0;34m,\u001b[0m\u001b[0;34m\u001b[0m\u001b[0;34m\u001b[0m\u001b[0m\n\u001b[1;32m      4\u001b[0m           \u001b[0mvalidation_data\u001b[0m\u001b[0;34m=\u001b[0m\u001b[0;34m(\u001b[0m\u001b[0mX_test\u001b[0m\u001b[0;34m,\u001b[0m \u001b[0my_test\u001b[0m\u001b[0;34m)\u001b[0m\u001b[0;34m,\u001b[0m \u001b[0mverbose\u001b[0m\u001b[0;34m=\u001b[0m\u001b[0;36m1\u001b[0m\u001b[0;34m,\u001b[0m\u001b[0;34m\u001b[0m\u001b[0;34m\u001b[0m\u001b[0m\n\u001b[1;32m      5\u001b[0m           \u001b[0mcallbacks\u001b[0m\u001b[0;34m=\u001b[0m\u001b[0;34m[\u001b[0m\u001b[0mearly_stop\u001b[0m\u001b[0;34m]\u001b[0m\u001b[0;34m\u001b[0m\u001b[0;34m\u001b[0m\u001b[0m\n",
            "\u001b[0;32m~/opt/anaconda3/lib/python3.8/site-packages/tensorflow/python/keras/engine/training.py\u001b[0m in \u001b[0;36mfit\u001b[0;34m(self, x, y, batch_size, epochs, verbose, callbacks, validation_split, validation_data, shuffle, class_weight, sample_weight, initial_epoch, steps_per_epoch, validation_steps, validation_batch_size, validation_freq, max_queue_size, workers, use_multiprocessing)\u001b[0m\n\u001b[1;32m   1129\u001b[0m                 \u001b[0mmodel\u001b[0m\u001b[0;34m=\u001b[0m\u001b[0mself\u001b[0m\u001b[0;34m,\u001b[0m\u001b[0;34m\u001b[0m\u001b[0;34m\u001b[0m\u001b[0m\n\u001b[1;32m   1130\u001b[0m                 steps_per_execution=self._steps_per_execution)\n\u001b[0;32m-> 1131\u001b[0;31m           val_logs = self.evaluate(\n\u001b[0m\u001b[1;32m   1132\u001b[0m               \u001b[0mx\u001b[0m\u001b[0;34m=\u001b[0m\u001b[0mval_x\u001b[0m\u001b[0;34m,\u001b[0m\u001b[0;34m\u001b[0m\u001b[0;34m\u001b[0m\u001b[0m\n\u001b[1;32m   1133\u001b[0m               \u001b[0my\u001b[0m\u001b[0;34m=\u001b[0m\u001b[0mval_y\u001b[0m\u001b[0;34m,\u001b[0m\u001b[0;34m\u001b[0m\u001b[0;34m\u001b[0m\u001b[0m\n",
            "\u001b[0;32m~/opt/anaconda3/lib/python3.8/site-packages/tensorflow/python/keras/engine/training.py\u001b[0m in \u001b[0;36mevaluate\u001b[0;34m(self, x, y, batch_size, verbose, sample_weight, steps, callbacks, max_queue_size, workers, use_multiprocessing, return_dict)\u001b[0m\n\u001b[1;32m   1387\u001b[0m             \u001b[0;32mwith\u001b[0m \u001b[0mtrace\u001b[0m\u001b[0;34m.\u001b[0m\u001b[0mTrace\u001b[0m\u001b[0;34m(\u001b[0m\u001b[0;34m'test'\u001b[0m\u001b[0;34m,\u001b[0m \u001b[0mstep_num\u001b[0m\u001b[0;34m=\u001b[0m\u001b[0mstep\u001b[0m\u001b[0;34m,\u001b[0m \u001b[0m_r\u001b[0m\u001b[0;34m=\u001b[0m\u001b[0;36m1\u001b[0m\u001b[0;34m)\u001b[0m\u001b[0;34m:\u001b[0m\u001b[0;34m\u001b[0m\u001b[0;34m\u001b[0m\u001b[0m\n\u001b[1;32m   1388\u001b[0m               \u001b[0mcallbacks\u001b[0m\u001b[0;34m.\u001b[0m\u001b[0mon_test_batch_begin\u001b[0m\u001b[0;34m(\u001b[0m\u001b[0mstep\u001b[0m\u001b[0;34m)\u001b[0m\u001b[0;34m\u001b[0m\u001b[0;34m\u001b[0m\u001b[0m\n\u001b[0;32m-> 1389\u001b[0;31m               \u001b[0mtmp_logs\u001b[0m \u001b[0;34m=\u001b[0m \u001b[0mself\u001b[0m\u001b[0;34m.\u001b[0m\u001b[0mtest_function\u001b[0m\u001b[0;34m(\u001b[0m\u001b[0miterator\u001b[0m\u001b[0;34m)\u001b[0m\u001b[0;34m\u001b[0m\u001b[0;34m\u001b[0m\u001b[0m\n\u001b[0m\u001b[1;32m   1390\u001b[0m               \u001b[0;32mif\u001b[0m \u001b[0mdata_handler\u001b[0m\u001b[0;34m.\u001b[0m\u001b[0mshould_sync\u001b[0m\u001b[0;34m:\u001b[0m\u001b[0;34m\u001b[0m\u001b[0;34m\u001b[0m\u001b[0m\n\u001b[1;32m   1391\u001b[0m                 \u001b[0mcontext\u001b[0m\u001b[0;34m.\u001b[0m\u001b[0masync_wait\u001b[0m\u001b[0;34m(\u001b[0m\u001b[0;34m)\u001b[0m\u001b[0;34m\u001b[0m\u001b[0;34m\u001b[0m\u001b[0m\n",
            "\u001b[0;32m~/opt/anaconda3/lib/python3.8/site-packages/tensorflow/python/eager/def_function.py\u001b[0m in \u001b[0;36m__call__\u001b[0;34m(self, *args, **kwds)\u001b[0m\n\u001b[1;32m    826\u001b[0m     \u001b[0mtracing_count\u001b[0m \u001b[0;34m=\u001b[0m \u001b[0mself\u001b[0m\u001b[0;34m.\u001b[0m\u001b[0mexperimental_get_tracing_count\u001b[0m\u001b[0;34m(\u001b[0m\u001b[0;34m)\u001b[0m\u001b[0;34m\u001b[0m\u001b[0;34m\u001b[0m\u001b[0m\n\u001b[1;32m    827\u001b[0m     \u001b[0;32mwith\u001b[0m \u001b[0mtrace\u001b[0m\u001b[0;34m.\u001b[0m\u001b[0mTrace\u001b[0m\u001b[0;34m(\u001b[0m\u001b[0mself\u001b[0m\u001b[0;34m.\u001b[0m\u001b[0m_name\u001b[0m\u001b[0;34m)\u001b[0m \u001b[0;32mas\u001b[0m \u001b[0mtm\u001b[0m\u001b[0;34m:\u001b[0m\u001b[0;34m\u001b[0m\u001b[0;34m\u001b[0m\u001b[0m\n\u001b[0;32m--> 828\u001b[0;31m       \u001b[0mresult\u001b[0m \u001b[0;34m=\u001b[0m \u001b[0mself\u001b[0m\u001b[0;34m.\u001b[0m\u001b[0m_call\u001b[0m\u001b[0;34m(\u001b[0m\u001b[0;34m*\u001b[0m\u001b[0margs\u001b[0m\u001b[0;34m,\u001b[0m \u001b[0;34m**\u001b[0m\u001b[0mkwds\u001b[0m\u001b[0;34m)\u001b[0m\u001b[0;34m\u001b[0m\u001b[0;34m\u001b[0m\u001b[0m\n\u001b[0m\u001b[1;32m    829\u001b[0m       \u001b[0mcompiler\u001b[0m \u001b[0;34m=\u001b[0m \u001b[0;34m\"xla\"\u001b[0m \u001b[0;32mif\u001b[0m \u001b[0mself\u001b[0m\u001b[0;34m.\u001b[0m\u001b[0m_experimental_compile\u001b[0m \u001b[0;32melse\u001b[0m \u001b[0;34m\"nonXla\"\u001b[0m\u001b[0;34m\u001b[0m\u001b[0;34m\u001b[0m\u001b[0m\n\u001b[1;32m    830\u001b[0m       \u001b[0mnew_tracing_count\u001b[0m \u001b[0;34m=\u001b[0m \u001b[0mself\u001b[0m\u001b[0;34m.\u001b[0m\u001b[0mexperimental_get_tracing_count\u001b[0m\u001b[0;34m(\u001b[0m\u001b[0;34m)\u001b[0m\u001b[0;34m\u001b[0m\u001b[0;34m\u001b[0m\u001b[0m\n",
            "\u001b[0;32m~/opt/anaconda3/lib/python3.8/site-packages/tensorflow/python/eager/def_function.py\u001b[0m in \u001b[0;36m_call\u001b[0;34m(self, *args, **kwds)\u001b[0m\n\u001b[1;32m    860\u001b[0m       \u001b[0;31m# In this case we have not created variables on the first call. So we can\u001b[0m\u001b[0;34m\u001b[0m\u001b[0;34m\u001b[0m\u001b[0;34m\u001b[0m\u001b[0m\n\u001b[1;32m    861\u001b[0m       \u001b[0;31m# run the first trace but we should fail if variables are created.\u001b[0m\u001b[0;34m\u001b[0m\u001b[0;34m\u001b[0m\u001b[0;34m\u001b[0m\u001b[0m\n\u001b[0;32m--> 862\u001b[0;31m       \u001b[0mresults\u001b[0m \u001b[0;34m=\u001b[0m \u001b[0mself\u001b[0m\u001b[0;34m.\u001b[0m\u001b[0m_stateful_fn\u001b[0m\u001b[0;34m(\u001b[0m\u001b[0;34m*\u001b[0m\u001b[0margs\u001b[0m\u001b[0;34m,\u001b[0m \u001b[0;34m**\u001b[0m\u001b[0mkwds\u001b[0m\u001b[0;34m)\u001b[0m\u001b[0;34m\u001b[0m\u001b[0;34m\u001b[0m\u001b[0m\n\u001b[0m\u001b[1;32m    863\u001b[0m       \u001b[0;32mif\u001b[0m \u001b[0mself\u001b[0m\u001b[0;34m.\u001b[0m\u001b[0m_created_variables\u001b[0m\u001b[0;34m:\u001b[0m\u001b[0;34m\u001b[0m\u001b[0;34m\u001b[0m\u001b[0m\n\u001b[1;32m    864\u001b[0m         raise ValueError(\"Creating variables on a non-first call to a function\"\n",
            "\u001b[0;32m~/opt/anaconda3/lib/python3.8/site-packages/tensorflow/python/eager/function.py\u001b[0m in \u001b[0;36m__call__\u001b[0;34m(self, *args, **kwargs)\u001b[0m\n\u001b[1;32m   2940\u001b[0m       (graph_function,\n\u001b[1;32m   2941\u001b[0m        filtered_flat_args) = self._maybe_define_function(args, kwargs)\n\u001b[0;32m-> 2942\u001b[0;31m     return graph_function._call_flat(\n\u001b[0m\u001b[1;32m   2943\u001b[0m         filtered_flat_args, captured_inputs=graph_function.captured_inputs)  # pylint: disable=protected-access\n\u001b[1;32m   2944\u001b[0m \u001b[0;34m\u001b[0m\u001b[0m\n",
            "\u001b[0;32m~/opt/anaconda3/lib/python3.8/site-packages/tensorflow/python/eager/function.py\u001b[0m in \u001b[0;36m_call_flat\u001b[0;34m(self, args, captured_inputs, cancellation_manager)\u001b[0m\n\u001b[1;32m   1916\u001b[0m         and executing_eagerly):\n\u001b[1;32m   1917\u001b[0m       \u001b[0;31m# No tape is watching; skip to running the function.\u001b[0m\u001b[0;34m\u001b[0m\u001b[0;34m\u001b[0m\u001b[0;34m\u001b[0m\u001b[0m\n\u001b[0;32m-> 1918\u001b[0;31m       return self._build_call_outputs(self._inference_function.call(\n\u001b[0m\u001b[1;32m   1919\u001b[0m           ctx, args, cancellation_manager=cancellation_manager))\n\u001b[1;32m   1920\u001b[0m     forward_backward = self._select_forward_and_backward_functions(\n",
            "\u001b[0;32m~/opt/anaconda3/lib/python3.8/site-packages/tensorflow/python/eager/function.py\u001b[0m in \u001b[0;36mcall\u001b[0;34m(self, ctx, args, cancellation_manager)\u001b[0m\n\u001b[1;32m    553\u001b[0m       \u001b[0;32mwith\u001b[0m \u001b[0m_InterpolateFunctionError\u001b[0m\u001b[0;34m(\u001b[0m\u001b[0mself\u001b[0m\u001b[0;34m)\u001b[0m\u001b[0;34m:\u001b[0m\u001b[0;34m\u001b[0m\u001b[0;34m\u001b[0m\u001b[0m\n\u001b[1;32m    554\u001b[0m         \u001b[0;32mif\u001b[0m \u001b[0mcancellation_manager\u001b[0m \u001b[0;32mis\u001b[0m \u001b[0;32mNone\u001b[0m\u001b[0;34m:\u001b[0m\u001b[0;34m\u001b[0m\u001b[0;34m\u001b[0m\u001b[0m\n\u001b[0;32m--> 555\u001b[0;31m           outputs = execute.execute(\n\u001b[0m\u001b[1;32m    556\u001b[0m               \u001b[0mstr\u001b[0m\u001b[0;34m(\u001b[0m\u001b[0mself\u001b[0m\u001b[0;34m.\u001b[0m\u001b[0msignature\u001b[0m\u001b[0;34m.\u001b[0m\u001b[0mname\u001b[0m\u001b[0;34m)\u001b[0m\u001b[0;34m,\u001b[0m\u001b[0;34m\u001b[0m\u001b[0;34m\u001b[0m\u001b[0m\n\u001b[1;32m    557\u001b[0m               \u001b[0mnum_outputs\u001b[0m\u001b[0;34m=\u001b[0m\u001b[0mself\u001b[0m\u001b[0;34m.\u001b[0m\u001b[0m_num_outputs\u001b[0m\u001b[0;34m,\u001b[0m\u001b[0;34m\u001b[0m\u001b[0;34m\u001b[0m\u001b[0m\n",
            "\u001b[0;32m~/opt/anaconda3/lib/python3.8/site-packages/tensorflow/python/eager/execute.py\u001b[0m in \u001b[0;36mquick_execute\u001b[0;34m(op_name, num_outputs, inputs, attrs, ctx, name)\u001b[0m\n\u001b[1;32m     57\u001b[0m   \u001b[0;32mtry\u001b[0m\u001b[0;34m:\u001b[0m\u001b[0;34m\u001b[0m\u001b[0;34m\u001b[0m\u001b[0m\n\u001b[1;32m     58\u001b[0m     \u001b[0mctx\u001b[0m\u001b[0;34m.\u001b[0m\u001b[0mensure_initialized\u001b[0m\u001b[0;34m(\u001b[0m\u001b[0;34m)\u001b[0m\u001b[0;34m\u001b[0m\u001b[0;34m\u001b[0m\u001b[0m\n\u001b[0;32m---> 59\u001b[0;31m     tensors = pywrap_tfe.TFE_Py_Execute(ctx._handle, device_name, op_name,\n\u001b[0m\u001b[1;32m     60\u001b[0m                                         inputs, attrs, num_outputs)\n\u001b[1;32m     61\u001b[0m   \u001b[0;32mexcept\u001b[0m \u001b[0mcore\u001b[0m\u001b[0;34m.\u001b[0m\u001b[0m_NotOkStatusException\u001b[0m \u001b[0;32mas\u001b[0m \u001b[0me\u001b[0m\u001b[0;34m:\u001b[0m\u001b[0;34m\u001b[0m\u001b[0;34m\u001b[0m\u001b[0m\n",
            "\u001b[0;31mKeyboardInterrupt\u001b[0m: "
          ]
        }
      ]
    },
    {
      "cell_type": "code",
      "metadata": {
        "id": "21pnZINnUSrW",
        "outputId": "03731131-1b47-45a5-b34d-8c3c0fe7d937"
      },
      "source": [
        "model_loss = pd.DataFrame(model.history.history)\n",
        "model_loss.plot()"
      ],
      "execution_count": null,
      "outputs": [
        {
          "data": {
            "text/plain": [
              "<matplotlib.axes._subplots.AxesSubplot at 0x7f844c917370>"
            ]
          },
          "execution_count": 209,
          "metadata": {},
          "output_type": "execute_result"
        },
        {
          "data": {
            "image/png": "[encoded data removed]",
            "text/plain": [
              "<Figure size 432x288 with 1 Axes>"
            ]
          },
          "metadata": {
            "needs_background": "light"
          },
          "output_type": "display_data"
        }
      ]
    },
    {
      "cell_type": "markdown",
      "metadata": {
        "id": "SaYn7WPsUSrW"
      },
      "source": [
        "# Model Evaluation"
      ]
    },
    {
      "cell_type": "code",
      "metadata": {
        "id": "3wb6EbFqUSrW",
        "outputId": "189192b3-9ba2-4f10-b1d8-918fae3ba226"
      },
      "source": [
        "predictions = model.predict_classes(X_test)"
      ],
      "execution_count": null,
      "outputs": [
        {
          "name": "stderr",
          "output_type": "stream",
          "text": [
            "/Users/susandas/opt/anaconda3/lib/python3.8/site-packages/tensorflow/python/keras/engine/sequential.py:450: UserWarning: `model.predict_classes()` is deprecated and will be removed after 2021-01-01. Please use instead:* `np.argmax(model.predict(x), axis=-1)`,   if your model does multi-class classification   (e.g. if it uses a `softmax` last-layer activation).* `(model.predict(x) > 0.5).astype(\"int32\")`,   if your model does binary classification   (e.g. if it uses a `sigmoid` last-layer activation).\n",
            "  warnings.warn('`model.predict_classes()` is deprecated and '\n"
          ]
        }
      ]
    },
    {
      "cell_type": "code",
      "metadata": {
        "id": "fF4Y0TGeUSrW"
      },
      "source": [
        "from sklearn.metrics import classification_report,confusion_matrix"
      ],
      "execution_count": null,
      "outputs": []
    },
    {
      "cell_type": "code",
      "metadata": {
        "id": "VSYVIFWLUSrX",
        "outputId": "36ffdb8f-1124-4a4f-9dc8-85ce84c62db4"
      },
      "source": [
        "print(classification_report(y_test,predictions))"
      ],
      "execution_count": null,
      "outputs": [
        {
          "name": "stdout",
          "output_type": "stream",
          "text": [
            "              precision    recall  f1-score   support\n",
            "\n",
            "           0       0.79      1.00      0.88     47062\n",
            "           1       0.89      0.12      0.21     14370\n",
            "\n",
            "    accuracy                           0.79     61432\n",
            "   macro avg       0.84      0.56      0.54     61432\n",
            "weighted avg       0.81      0.79      0.72     61432\n",
            "\n"
          ]
        }
      ]
    },
    {
      "cell_type": "code",
      "metadata": {
        "id": "Zh01IUIgUSrX",
        "outputId": "48f5f076-b5df-4deb-e62c-a763c5892590"
      },
      "source": [
        "print(confusion_matrix(y_test,predictions))"
      ],
      "execution_count": null,
      "outputs": [
        {
          "name": "stdout",
          "output_type": "stream",
          "text": [
            "[[46843   219]\n",
            " [12678  1692]]\n"
          ]
        }
      ]
    },
    {
      "cell_type": "markdown",
      "metadata": {
        "id": "1soaRW_nUSrX"
      },
      "source": [
        "## Final Predictions"
      ]
    },
    {
      "cell_type": "code",
      "metadata": {
        "id": "0t2Domp6USrX"
      },
      "source": [
        "X_tst = dftst1.drop(['ID'],axis=1).values"
      ],
      "execution_count": null,
      "outputs": []
    },
    {
      "cell_type": "code",
      "metadata": {
        "id": "wwoT5sxkUSrX"
      },
      "source": [
        "scaler.fit(X_tst)\n",
        "X_tst = scaler.transform(X_tst)"
      ],
      "execution_count": null,
      "outputs": []
    },
    {
      "cell_type": "code",
      "metadata": {
        "id": "ebOg4qcPUSrX",
        "outputId": "e2a3171b-8f18-4ad8-a670-ced9f7566740"
      },
      "source": [
        "predictions_final = model.predict_classes(X_tst)"
      ],
      "execution_count": null,
      "outputs": [
        {
          "name": "stderr",
          "output_type": "stream",
          "text": [
            "/Users/susandas/opt/anaconda3/lib/python3.8/site-packages/tensorflow/python/keras/engine/sequential.py:450: UserWarning: `model.predict_classes()` is deprecated and will be removed after 2021-01-01. Please use instead:* `np.argmax(model.predict(x), axis=-1)`,   if your model does multi-class classification   (e.g. if it uses a `softmax` last-layer activation).* `(model.predict(x) > 0.5).astype(\"int32\")`,   if your model does binary classification   (e.g. if it uses a `sigmoid` last-layer activation).\n",
            "  warnings.warn('`model.predict_classes()` is deprecated and '\n"
          ]
        }
      ]
    },
    {
      "cell_type": "code",
      "metadata": {
        "id": "95yIZk3PUSrX"
      },
      "source": [
        "predictions_final\n",
        "\n",
        "predictions_final_arr = predictions_final.reshape(-1)\n",
        "\n",
        "predictions_final = pd.Series(predictions_final_arr)\n",
        "\n",
        "tstid = dftst['ID']\n",
        "# df_final.shape\n",
        "# tstid\n",
        "df_final = pd.concat([tstid,predictions_final],axis=1,ignore_index=True)\n",
        "df_final.columns=[\"ID\",\"Is_Lead\"]\n",
        "df_final"
      ],
      "execution_count": null,
      "outputs": []
    },
    {
      "cell_type": "code",
      "metadata": {
        "id": "NZx3BWgnUSrY"
      },
      "source": [
        "df_final.to_csv(\"Predictions_Susan.csv\",header = True, index = False)"
      ],
      "execution_count": null,
      "outputs": []
    },
    {
      "cell_type": "code",
      "metadata": {
        "id": "n655S279USrY"
      },
      "source": [
        ""
      ],
      "execution_count": null,
      "outputs": []
    }
  ]
}